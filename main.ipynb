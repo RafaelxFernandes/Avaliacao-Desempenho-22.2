{
 "cells": [
  {
   "cell_type": "markdown",
   "metadata": {},
   "source": [
    "## Bibliotecas"
   ]
  },
  {
   "cell_type": "code",
   "execution_count": 1,
   "metadata": {},
   "outputs": [],
   "source": [
    "import random\n",
    "import math\n",
    "\n",
    "import pandas as pd\n",
    "\n",
    "from functools import partial\n",
    "from scipy.stats import t, chi2"
   ]
  },
  {
   "cell_type": "markdown",
   "metadata": {},
   "source": [
    "## Códigos auxiliares"
   ]
  },
  {
   "cell_type": "code",
   "execution_count": 2,
   "metadata": {},
   "outputs": [],
   "source": [
    "from utils import *"
   ]
  },
  {
   "cell_type": "markdown",
   "metadata": {},
   "source": [
    "## Variáveis globais"
   ]
  },
  {
   "cell_type": "code",
   "execution_count": 3,
   "metadata": {},
   "outputs": [],
   "source": [
    "# N_RODADAS = 3200\n",
    "N_RODADAS = 32 \n",
    "\n",
    "# N_AMOSTRAS = 10000\n",
    "N_AMOSTRAS = 10\n",
    "\n",
    "RHOS = [0.2, 0.4, 0.6, 0.8, 0.9]\n",
    "\n",
    "CHEGADA = 1\n",
    "FIM_DO_SERVICO = 0\n",
    "\n",
    "MU = 1.0\n",
    "\n",
    "LIVRE = 0\n",
    "OCUPADO = 1\n",
    "\n",
    "FCFS = 1\n",
    "LCFS = 0"
   ]
  },
  {
   "cell_type": "markdown",
   "metadata": {},
   "source": [
    "## Funcionamento geral"
   ]
  },
  {
   "cell_type": "markdown",
   "metadata": {},
   "source": [
    "### Gerando VAs exponenciais\n",
    "Resultado mostrado na aula 5, slide 5."
   ]
  },
  {
   "cell_type": "code",
   "execution_count": 4,
   "metadata": {},
   "outputs": [],
   "source": [
    "def gera_exponencial(rho):\n",
    "\n",
    "    # Gera VA uniforme no intervalo [0.0, 1.0)\n",
    "    u0 = random.random()\n",
    "\n",
    "    # Pega amostra da exponencial\n",
    "    x0 = -math.log(u0)/ rho\n",
    "\n",
    "    return x0"
   ]
  },
  {
   "cell_type": "markdown",
   "metadata": {},
   "source": [
    "### Gerando números aleatórios\n",
    "Os seeds em Python são definidos por meio da função random.seed(int) e fixamos um seed antes cada simulação para garantir a reprodutibilidade dos resultados. Para garantir a independência dos seeds, rodamos o algoritmo com alguns seeds diferentes ao longo do trabalho.\n",
    "\n",
    "Além disso também fizemos alguns testes para mostrar que não há sobreposição entre os intervalos gerados pelos seeds.\n",
    "\n",
    "Mesmo usando seeds próximas (0 e 1, por exemplo) não encontramos sobreposição das sequências de valores nem uma correlação significativa. Acreditamos que isso se deve ao fato de o Python utilizar o algoritmo do Mersenne Twister para gerar números pseudoaleatórios (https://en.wikipedia.org/wiki/Mersenne_Twister)."
   ]
  },
  {
   "cell_type": "code",
   "execution_count": 5,
   "metadata": {},
   "outputs": [],
   "source": [
    "def gera_amostras(rho, seed):\n",
    "\n",
    "    rodadas = []\n",
    "\n",
    "    random.seed(seed)\n",
    "    \n",
    "    for _ in range(N_RODADAS):\n",
    "        amostras = []\n",
    "\n",
    "        for _ in range(N_AMOSTRAS):\n",
    "            amostras.append(gera_exponencial(rho))\n",
    "        \n",
    "        rodadas.append(amostras)\n",
    "    \n",
    "    # Lista de rodadas com números aleatórios gerados pela amostra exponencial\n",
    "    return rodadas"
   ]
  },
  {
   "cell_type": "markdown",
   "metadata": {},
   "source": [
    "#### Teste 1"
   ]
  },
  {
   "cell_type": "markdown",
   "metadata": {},
   "source": [
    "Primeiro geramos 2 vetores com váriaveis exponenciais com mesma taxa, cada um a partir de uma seed diferente. E depois verificamos se existem valores em comuns nesses vetores."
   ]
  },
  {
   "cell_type": "code",
   "execution_count": 6,
   "metadata": {},
   "outputs": [],
   "source": [
    "def teste_gera_amostras(rodadas_A, rodadas_B):\n",
    "\n",
    "    tamanho_lista_rodadas = len(rodadas_A)\n",
    "\n",
    "    for rodada_A in range(tamanho_lista_rodadas - 1):\n",
    "        lista_rodada = rodadas_A[rodada_A]\n",
    "\n",
    "        for rodada_B in range(tamanho_lista_rodadas):\n",
    "            verifica_lista = rodadas_B[rodada_B]\n",
    "\n",
    "            verificacao = list(set(lista_rodada).intersection(verifica_lista))\n",
    "            if(len(verificacao) > 0):\n",
    "                return \"Foram encontrados valores iguais\"\n",
    "            \n",
    "    return \"Não há valores iguais entre as duas rodadas\"       "
   ]
  },
  {
   "cell_type": "markdown",
   "metadata": {},
   "source": [
    "Exemplo:"
   ]
  },
  {
   "cell_type": "code",
   "execution_count": 7,
   "metadata": {},
   "outputs": [
    {
     "data": {
      "text/plain": [
       "'Não há valores iguais entre as duas rodadas'"
      ]
     },
     "execution_count": 7,
     "metadata": {},
     "output_type": "execute_result"
    }
   ],
   "source": [
    "rodadas_A = gera_amostras(0.3, 0)\n",
    "rodadas_B = gera_amostras(0.3, 1)\n",
    "\n",
    "teste_gera_amostras(rodadas_A, rodadas_B)"
   ]
  },
  {
   "cell_type": "markdown",
   "metadata": {},
   "source": [
    "#### Teste 2"
   ]
  },
  {
   "cell_type": "markdown",
   "metadata": {},
   "source": [
    "No outro teste geramos 2 vetores também e verificamos o indíce de correlação (Pearson) entre eles.\n",
    "\n",
    "- +1: correlação positiva completa\n",
    "- +0.8: correlação positiva forte\n",
    "- +0.6: correlação positiva moderada\n",
    "- 0: nenhuma correlação\n",
    "- -0.6: correlação negativa moderada\n",
    "- -0.8: correlação negativa forte\n",
    "- -1: correlação negativa completa\n",
    "\n",
    "Referência: https://stackabuse.com/calculating-pearson-correlation-coefficient-in-python-with-numpy/\n"
   ]
  },
  {
   "cell_type": "code",
   "execution_count": 8,
   "metadata": {},
   "outputs": [],
   "source": [
    "def teste_pearson_gera_amostras(seed_1, seed_2):\n",
    "\n",
    "    rodadas = []\n",
    "    amostras_1 = []\n",
    "    amostras_2 = []\n",
    "\n",
    "    random.seed(seed_1)\n",
    "    for _ in range(N_AMOSTRAS):\n",
    "        amostras_1.append(random.random())\n",
    "    rodadas.append(amostras_1)\n",
    "\n",
    "    random.seed(seed_2)\n",
    "    for _ in range(N_AMOSTRAS):\n",
    "        amostras_2.append(random.random())\n",
    "    rodadas.append(amostras_2)\n",
    "\n",
    "    x_pearson = pd.Series(rodadas[0])\n",
    "    y_pearson = pd.Series(rodadas[1])\n",
    "\n",
    "    resultado = x_pearson.corr(y_pearson)\n",
    "\n",
    "    return resultado"
   ]
  },
  {
   "cell_type": "markdown",
   "metadata": {},
   "source": [
    "Exemplo:"
   ]
  },
  {
   "cell_type": "code",
   "execution_count": 9,
   "metadata": {},
   "outputs": [
    {
     "data": {
      "text/plain": [
       "-0.03549463742990013"
      ]
     },
     "execution_count": 9,
     "metadata": {},
     "output_type": "execute_result"
    }
   ],
   "source": [
    "teste_pearson_gera_amostras(0, 1)"
   ]
  },
  {
   "cell_type": "markdown",
   "metadata": {},
   "source": [
    "### Eventos"
   ]
  },
  {
   "cell_type": "code",
   "execution_count": 10,
   "metadata": {},
   "outputs": [],
   "source": [
    "class Evento:\n",
    "\n",
    "    def __init__(self, tipo_evento, instante_t, id_cliente):\n",
    "        self.tipo_evento = tipo_evento\n",
    "        self.instante_t = instante_t\n",
    "        self.id_cliente = id_cliente\n",
    "\n",
    "    # Define como a classe é impressa\n",
    "    def __repr__(self):\n",
    "        if(self.tipo_evento == CHEGADA):\n",
    "            escreve_string = \"CHEGADA\"\n",
    "        else:\n",
    "            escreve_string = \"FIM DO SERVIÇO\"\n",
    "\n",
    "        return f\"Tipo de evento: {escreve_string}\\n Instante: {self.instante_t}\\n ID Cliente: {self.id_cliente}\""
   ]
  },
  {
   "cell_type": "markdown",
   "metadata": {},
   "source": [
    "Exemplo:"
   ]
  },
  {
   "cell_type": "code",
   "execution_count": 11,
   "metadata": {},
   "outputs": [
    {
     "data": {
      "text/plain": [
       "Tipo de evento: CHEGADA\n",
       " Instante: 0.1\n",
       " ID Cliente: 0"
      ]
     },
     "execution_count": 11,
     "metadata": {},
     "output_type": "execute_result"
    }
   ],
   "source": [
    "evento = Evento(CHEGADA, 0.1, 0)\n",
    "evento"
   ]
  },
  {
   "cell_type": "markdown",
   "metadata": {},
   "source": [
    "### Clientes"
   ]
  },
  {
   "cell_type": "code",
   "execution_count": 12,
   "metadata": {},
   "outputs": [],
   "source": [
    "class Cliente:\n",
    "\n",
    "    def __init__(self, chegada_evento, cor):\n",
    "        self.id = chegada_evento.id_cliente\n",
    "        self.tempo_chegada = chegada_evento.instante_t\n",
    "        self.tempo_espera = 0.0\n",
    "        self.cor = cor\n",
    "\n",
    "    # Define como a classe é impressa\n",
    "    def __repr__(self):\n",
    "        return f\"ID: {self.id}\\n Tempo de chegada: {self.tempo_chegada}\\n Tempo de espera: {self.tempo_espera}\""
   ]
  },
  {
   "cell_type": "code",
   "execution_count": 13,
   "metadata": {},
   "outputs": [],
   "source": [
    "def cria_cliente(evento, cor):\n",
    "    novo_cliente = Cliente(evento, cor)\n",
    "    return novo_cliente"
   ]
  },
  {
   "cell_type": "markdown",
   "metadata": {},
   "source": [
    "Exemplo:"
   ]
  },
  {
   "cell_type": "code",
   "execution_count": 14,
   "metadata": {},
   "outputs": [
    {
     "data": {
      "text/plain": [
       "ID: 0\n",
       " Tempo de chegada: 0.1\n",
       " Tempo de espera: 0.0"
      ]
     },
     "execution_count": 14,
     "metadata": {},
     "output_type": "execute_result"
    }
   ],
   "source": [
    "cor = \"%06x\" % random.randint(0, 0xFFFFFF)\n",
    "cliente = cria_cliente(evento, cor)\n",
    "cliente"
   ]
  },
  {
   "cell_type": "markdown",
   "metadata": {},
   "source": [
    "### Gerando chegadas"
   ]
  },
  {
   "cell_type": "code",
   "execution_count": 15,
   "metadata": {},
   "outputs": [],
   "source": [
    "def gera_chegadas(instante_t, distribuicao_chegada, id_cliente):\n",
    "    chegada = Evento(CHEGADA, instante_t + distribuicao_chegada(), id_cliente)\n",
    "    return chegada"
   ]
  },
  {
   "cell_type": "markdown",
   "metadata": {},
   "source": [
    "Exemplo:"
   ]
  },
  {
   "cell_type": "code",
   "execution_count": 32,
   "metadata": {},
   "outputs": [
    {
     "data": {
      "text/plain": [
       "Tipo de evento: CHEGADA\n",
       " Instante: 6.021559177248312\n",
       " ID Cliente: 0"
      ]
     },
     "execution_count": 32,
     "metadata": {},
     "output_type": "execute_result"
    }
   ],
   "source": [
    "chegada = gera_chegadas(1, partial(gera_exponencial, 0.3), 0)\n",
    "chegada"
   ]
  },
  {
   "cell_type": "markdown",
   "metadata": {},
   "source": [
    "### Gerando fins de serviço"
   ]
  },
  {
   "cell_type": "code",
   "execution_count": 35,
   "metadata": {},
   "outputs": [],
   "source": [
    "def gera_fim_servico(instante_t, distribuicao_servico, id_cliente):\n",
    "    fim_servico = Evento(FIM_DO_SERVICO, instante_t + distribuicao_servico(), id_cliente)\n",
    "    return fim_servico"
   ]
  },
  {
   "cell_type": "markdown",
   "metadata": {},
   "source": [
    "Exemplo:"
   ]
  },
  {
   "cell_type": "code",
   "execution_count": 36,
   "metadata": {},
   "outputs": [
    {
     "data": {
      "text/plain": [
       "Tipo de evento: FIM DO SERVIÇO\n",
       " Instante: 12.338526565082633\n",
       " ID Cliente: 1"
      ]
     },
     "execution_count": 36,
     "metadata": {},
     "output_type": "execute_result"
    }
   ],
   "source": [
    "fim_servico = gera_fim_servico(10, partial(gera_exponencial, 0.3), 1)\n",
    "fim_servico"
   ]
  },
  {
   "cell_type": "markdown",
   "metadata": {},
   "source": [
    "### Lista de eventos"
   ]
  },
  {
   "cell_type": "code",
   "execution_count": null,
   "metadata": {},
   "outputs": [],
   "source": []
  },
  {
   "cell_type": "markdown",
   "metadata": {},
   "source": [
    "### Fila de clientes"
   ]
  },
  {
   "cell_type": "code",
   "execution_count": null,
   "metadata": {},
   "outputs": [],
   "source": []
  },
  {
   "cell_type": "markdown",
   "metadata": {},
   "source": [
    "### Serviço"
   ]
  },
  {
   "cell_type": "code",
   "execution_count": null,
   "metadata": {},
   "outputs": [],
   "source": []
  },
  {
   "cell_type": "markdown",
   "metadata": {},
   "source": [
    "### Intervalos de confiança"
   ]
  },
  {
   "cell_type": "markdown",
   "metadata": {},
   "source": [
    "#### T-Student\n",
    "Resultado apresentado na aula 7, slides 4 e 6."
   ]
  },
  {
   "cell_type": "code",
   "execution_count": 19,
   "metadata": {},
   "outputs": [],
   "source": [
    "t_student_percentil = t(df = N_AMOSTRAS - 1).ppf((0.025, 0.975))[1]\n",
    "\n",
    "def t_student(media, variancia):\n",
    "\n",
    "    # Verifica se a média e variância têm valores nulos (ou próximos disso)\n",
    "    if(math.isclose(media, 0, abs_tol = 1e-9)):\n",
    "        media = 0\n",
    "\n",
    "    if(math.isclose(variancia, 0, abs_tol = 1e-9)):\n",
    "        variancia = 0\n",
    "\n",
    "    # Se a média e variância forem nulas\n",
    "    if(not(media or variancia)):\n",
    "        return 0.0, 0.0, 0.0\n",
    "\n",
    "    desvio_padrao = math.sqrt(variancia)\n",
    "\n",
    "    # Metade do intervalo\n",
    "    metade = t_student_percentil * (desvio_padrao/ math.sqrt(N_AMOSTRAS))\n",
    "\n",
    "    # Limite superior do intervalo\n",
    "    limite_superior = media + metade\n",
    "\n",
    "    # Limite inferior do intervalo\n",
    "    limite_inferior = media - metade\n",
    "\n",
    "    # Precisão do intervalo\n",
    "    precisao = metade/ media\n",
    "\n",
    "    return limite_superior, limite_inferior, precisao"
   ]
  },
  {
   "cell_type": "markdown",
   "metadata": {},
   "source": [
    "#### Chi-Quadrado\n",
    "Resultado apresentado na aula 7, slides 12 ao 14."
   ]
  },
  {
   "cell_type": "code",
   "execution_count": 20,
   "metadata": {},
   "outputs": [],
   "source": [
    "chi2_0025_percentil, chi2_0975_percentil = chi2(df = N_AMOSTRAS - 1).ppf((0.025, 0.975))\n",
    "\n",
    "def chi_quadrado(variancia):\n",
    "\n",
    "    if(variancia == 0.0):\n",
    "        return 0.0, 0.0, 0.0\n",
    "\n",
    "    else:\n",
    "        limite_superior = (N_AMOSTRAS) * variancia/ chi2_0975_percentil\n",
    "        limite_inferior = (N_AMOSTRAS) * variancia/ chi2_0025_percentil\n",
    "\n",
    "        # Enunciado pede que seja aproximadamente 0.05\n",
    "        precisao = (chi2_0975_percentil - chi2_0025_percentil)/ (chi2_0975_percentil + chi2_0025_percentil)\n",
    "\n",
    "        return limite_superior, limite_inferior, precisao"
   ]
  },
  {
   "cell_type": "markdown",
   "metadata": {},
   "source": [
    "### Estimadores"
   ]
  },
  {
   "cell_type": "markdown",
   "metadata": {},
   "source": [
    "Essa classe permitey o cálculo iterativo da média e da variãncia de uma variável, recebendo uma amostra de cada vez.\n",
    "Esse resultado foi apresentado na aula 7, slide 19."
   ]
  },
  {
   "cell_type": "code",
   "execution_count": 21,
   "metadata": {},
   "outputs": [],
   "source": [
    "class Estimador:\n",
    "\n",
    "    def __init__(self):\n",
    "        self.soma_amostras = 0.0\n",
    "        self.quadrado_soma_amostras = 0.0\n",
    "        self.numero_amostras = 0\n",
    "\n",
    "    def adiciona_amostra(self, amostra):\n",
    "        self.soma_amostras += amostra\n",
    "        self.quadrado_soma_amostras += (amostra ** 2)\n",
    "        self.numero_amostras += 1\n",
    "\n",
    "    def media(self):\n",
    "        return self.soma_amostras/ self.numero_amostras\n",
    "\n",
    "    def variancia(self):\n",
    "        termo_auxiliar_1 = self.quadrado_soma_amostras/ (self.numero_amostras - 1)\n",
    "        termo_auxiliar_2 = (self.soma_amostras ** 2)/ (self.numero_amostras * (self.numero_amostras - 1))\n",
    "        return termo_auxiliar_1 - termo_auxiliar_2\n",
    "\n",
    "    def t_student(self):\n",
    "        return t_student(self.media(), self.variancia())\n",
    "\n",
    "    def variancia_chi_quadrado(self):\n",
    "        return chi_quadrado(self.variancia())\n",
    "\n",
    "    def chi_quadrado(self):\n",
    "        return chi_quadrado(self.media())"
   ]
  },
  {
   "cell_type": "markdown",
   "metadata": {},
   "source": [
    "### Simulação"
   ]
  },
  {
   "cell_type": "code",
   "execution_count": 84,
   "metadata": {},
   "outputs": [
    {
     "name": "stdout",
     "output_type": "stream",
     "text": [
      "Tempo 1.4906104378394698\n",
      "Chegada ID: 0\n",
      " Tempo de chegada: 1.4906104378394698\n",
      " Tempo de espera: 0.0\n",
      "[Tipo de evento: FIM DO SERVIÇO\n",
      " Instante: 5.7935356869958206\n",
      " ID Cliente: 0, Tipo de evento: CHEGADA\n",
      " Instante: 13.78544156357473\n",
      " ID Cliente: 1]\n",
      "\n",
      "Tempo 5.7935356869958206\n",
      "Saída ID: 0\n",
      " Tempo de chegada: 1.4906104378394698\n",
      " Tempo de espera: 4.302925249156351\n",
      "[Tipo de evento: CHEGADA\n",
      " Instante: 13.78544156357473\n",
      " ID Cliente: 1]\n",
      "\n",
      "Tempo 13.78544156357473\n",
      "Chegada ID: 1\n",
      " Tempo de chegada: 13.78544156357473\n",
      " Tempo de espera: 0.0\n",
      "[Tipo de evento: FIM DO SERVIÇO\n",
      " Instante: 14.805058658512774\n",
      " ID Cliente: 1, Tipo de evento: CHEGADA\n",
      " Instante: 18.784238029062944\n",
      " ID Cliente: 2]\n",
      "\n",
      "Tempo 14.805058658512774\n",
      "Saída ID: 1\n",
      " Tempo de chegada: 13.78544156357473\n",
      " Tempo de espera: 1.0196170949380434\n",
      "[Tipo de evento: CHEGADA\n",
      " Instante: 18.784238029062944\n",
      " ID Cliente: 2]\n",
      "\n",
      "Tempo 18.784238029062944\n",
      "Chegada ID: 2\n",
      " Tempo de chegada: 18.784238029062944\n",
      " Tempo de espera: 0.0\n",
      "[Tipo de evento: FIM DO SERVIÇO\n",
      " Instante: 19.164530887649388\n",
      " ID Cliente: 2, Tipo de evento: CHEGADA\n",
      " Instante: 20.08599800642967\n",
      " ID Cliente: 3]\n",
      "\n",
      "Tempo 19.164530887649388\n",
      "Saída ID: 2\n",
      " Tempo de chegada: 18.784238029062944\n",
      " Tempo de espera: 0.38029285858644357\n",
      "[Tipo de evento: CHEGADA\n",
      " Instante: 20.08599800642967\n",
      " ID Cliente: 3]\n",
      "\n",
      "Tempo 20.08599800642967\n",
      "Chegada ID: 3\n",
      " Tempo de chegada: 20.08599800642967\n",
      " Tempo de espera: 0.0\n",
      "[Tipo de evento: FIM DO SERVIÇO\n",
      " Instante: 22.962448818157842\n",
      " ID Cliente: 3, Tipo de evento: CHEGADA\n",
      " Instante: 28.227832942511476\n",
      " ID Cliente: 4]\n",
      "\n",
      "Tempo 22.962448818157842\n",
      "Saída ID: 3\n",
      " Tempo de chegada: 20.08599800642967\n",
      " Tempo de espera: 2.876450811728173\n",
      "[Tipo de evento: CHEGADA\n",
      " Instante: 28.227832942511476\n",
      " ID Cliente: 4]\n",
      "\n",
      "Tempo 28.227832942511476\n",
      "Chegada ID: 4\n",
      " Tempo de chegada: 28.227832942511476\n",
      " Tempo de espera: 0.0\n",
      "[Tipo de evento: FIM DO SERVIÇO\n",
      " Instante: 33.295626276190504\n",
      " ID Cliente: 4, Tipo de evento: CHEGADA\n",
      " Instante: 39.93896693341645\n",
      " ID Cliente: 5]\n",
      "\n",
      "Tempo 33.295626276190504\n",
      "Saída ID: 4\n",
      " Tempo de chegada: 28.227832942511476\n",
      " Tempo de espera: 5.0677933336790275\n",
      "[Tipo de evento: CHEGADA\n",
      " Instante: 39.93896693341645\n",
      " ID Cliente: 5]\n",
      "\n",
      "Tempo 39.93896693341645\n",
      "Chegada ID: 5\n",
      " Tempo de chegada: 39.93896693341645\n",
      " Tempo de espera: 0.0\n",
      "[Tipo de evento: CHEGADA\n",
      " Instante: 42.21394545433929\n",
      " ID Cliente: 6, Tipo de evento: FIM DO SERVIÇO\n",
      " Instante: 52.0364806660537\n",
      " ID Cliente: 5]\n",
      "\n",
      "Tempo 42.21394545433929\n",
      "Chegada ID: 6\n",
      " Tempo de chegada: 42.21394545433929\n",
      " Tempo de espera: 0.0\n",
      "[Tipo de evento: CHEGADA\n",
      " Instante: 47.598167497405186\n",
      " ID Cliente: 7, Tipo de evento: FIM DO SERVIÇO\n",
      " Instante: 52.0364806660537\n",
      " ID Cliente: 5]\n",
      "\n",
      "Tempo 47.598167497405186\n",
      "Chegada ID: 7\n",
      " Tempo de chegada: 47.598167497405186\n",
      " Tempo de espera: 0.0\n",
      "[Tipo de evento: CHEGADA\n",
      " Instante: 49.03470323050559\n",
      " ID Cliente: 8, Tipo de evento: FIM DO SERVIÇO\n",
      " Instante: 52.0364806660537\n",
      " ID Cliente: 5]\n",
      "\n",
      "Tempo 49.03470323050559\n",
      "Chegada ID: 8\n",
      " Tempo de chegada: 49.03470323050559\n",
      " Tempo de espera: 0.0\n",
      "[Tipo de evento: CHEGADA\n",
      " Instante: 51.05829278091884\n",
      " ID Cliente: 9, Tipo de evento: FIM DO SERVIÇO\n",
      " Instante: 52.0364806660537\n",
      " ID Cliente: 5]\n",
      "\n",
      "Tempo 51.05829278091884\n",
      "Chegada ID: 9\n",
      " Tempo de chegada: 51.05829278091884\n",
      " Tempo de espera: 0.0\n",
      "[Tipo de evento: FIM DO SERVIÇO\n",
      " Instante: 52.0364806660537\n",
      " ID Cliente: 5, Tipo de evento: CHEGADA\n",
      " Instante: 56.09871580810884\n",
      " ID Cliente: 10]\n",
      "\n",
      "Tempo 52.0364806660537\n",
      "Saída ID: 5\n",
      " Tempo de chegada: 39.93896693341645\n",
      " Tempo de espera: 12.097513732637246\n",
      "[Tipo de evento: FIM DO SERVIÇO\n",
      " Instante: 53.79940773553648\n",
      " ID Cliente: 6, Tipo de evento: CHEGADA\n",
      " Instante: 56.09871580810884\n",
      " ID Cliente: 10]\n",
      "\n",
      "Tempo 53.79940773553648\n",
      "Saída ID: 6\n",
      " Tempo de chegada: 42.21394545433929\n",
      " Tempo de espera: 11.585462281197188\n",
      "[Tipo de evento: FIM DO SERVIÇO\n",
      " Instante: 54.50415579733105\n",
      " ID Cliente: 7, Tipo de evento: CHEGADA\n",
      " Instante: 56.09871580810884\n",
      " ID Cliente: 10]\n",
      "\n",
      "Tempo 54.50415579733105\n",
      "Saída ID: 7\n",
      " Tempo de chegada: 47.598167497405186\n",
      " Tempo de espera: 6.905988299925866\n",
      "[Tipo de evento: CHEGADA\n",
      " Instante: 56.09871580810884\n",
      " ID Cliente: 10, Tipo de evento: FIM DO SERVIÇO\n",
      " Instante: 71.2913022608264\n",
      " ID Cliente: 8]\n",
      "\n",
      "Tempo 56.09871580810884\n",
      "Chegada ID: 10\n",
      " Tempo de chegada: 56.09871580810884\n",
      " Tempo de espera: 0.0\n",
      "[Tipo de evento: CHEGADA\n",
      " Instante: 56.81836852455289\n",
      " ID Cliente: 11, Tipo de evento: FIM DO SERVIÇO\n",
      " Instante: 71.2913022608264\n",
      " ID Cliente: 8]\n",
      "\n",
      "Tempo 56.81836852455289\n",
      "Chegada ID: 11\n",
      " Tempo de chegada: 56.81836852455289\n",
      " Tempo de espera: 0.0\n",
      "[Tipo de evento: CHEGADA\n",
      " Instante: 58.01615682412473\n",
      " ID Cliente: 12, Tipo de evento: FIM DO SERVIÇO\n",
      " Instante: 71.2913022608264\n",
      " ID Cliente: 8]\n",
      "\n",
      "Tempo 58.01615682412473\n",
      "Chegada ID: 12\n",
      " Tempo de chegada: 58.01615682412473\n",
      " Tempo de espera: 0.0\n",
      "[Tipo de evento: CHEGADA\n",
      " Instante: 61.609733888782614\n",
      " ID Cliente: 13, Tipo de evento: FIM DO SERVIÇO\n",
      " Instante: 71.2913022608264\n",
      " ID Cliente: 8]\n",
      "\n",
      "Tempo 61.609733888782614\n",
      "Chegada ID: 13\n",
      " Tempo de chegada: 61.609733888782614\n",
      " Tempo de espera: 0.0\n",
      "[Tipo de evento: CHEGADA\n",
      " Instante: 67.81387185565445\n",
      " ID Cliente: 14, Tipo de evento: FIM DO SERVIÇO\n",
      " Instante: 71.2913022608264\n",
      " ID Cliente: 8]\n",
      "\n",
      "Tempo 67.81387185565445\n",
      "Chegada ID: 14\n",
      " Tempo de chegada: 67.81387185565445\n",
      " Tempo de espera: 0.0\n",
      "[Tipo de evento: CHEGADA\n",
      " Instante: 67.95963607674453\n",
      " ID Cliente: 15, Tipo de evento: FIM DO SERVIÇO\n",
      " Instante: 71.2913022608264\n",
      " ID Cliente: 8]\n",
      "\n",
      "Tempo 67.95963607674453\n",
      "Chegada ID: 15\n",
      " Tempo de chegada: 67.95963607674453\n",
      " Tempo de espera: 0.0\n",
      "[Tipo de evento: FIM DO SERVIÇO\n",
      " Instante: 71.2913022608264\n",
      " ID Cliente: 8, Tipo de evento: CHEGADA\n",
      " Instante: 71.58922342074982\n",
      " ID Cliente: 16]\n",
      "\n",
      "Tempo 71.2913022608264\n",
      "Saída ID: 8\n",
      " Tempo de chegada: 49.03470323050559\n",
      " Tempo de espera: 22.256599030320807\n",
      "[Tipo de evento: CHEGADA\n",
      " Instante: 71.58922342074982\n",
      " ID Cliente: 16, Tipo de evento: FIM DO SERVIÇO\n",
      " Instante: 79.21761024018376\n",
      " ID Cliente: 9]\n",
      "\n",
      "Tempo 71.58922342074982\n",
      "Chegada ID: 16\n",
      " Tempo de chegada: 71.58922342074982\n",
      " Tempo de espera: 0.0\n",
      "[Tipo de evento: FIM DO SERVIÇO\n",
      " Instante: 79.21761024018376\n",
      " ID Cliente: 9, Tipo de evento: CHEGADA\n",
      " Instante: 79.37579853322515\n",
      " ID Cliente: 17]\n",
      "\n",
      "Tempo 79.21761024018376\n",
      "Saída ID: 9\n",
      " Tempo de chegada: 51.05829278091884\n",
      " Tempo de espera: 28.15931745926492\n",
      "[Tipo de evento: CHEGADA\n",
      " Instante: 79.37579853322515\n",
      " ID Cliente: 17, Tipo de evento: FIM DO SERVIÇO\n",
      " Instante: 79.76918053060794\n",
      " ID Cliente: 10]\n",
      "\n",
      "Tempo 79.37579853322515\n",
      "Chegada ID: 17\n",
      " Tempo de chegada: 79.37579853322515\n",
      " Tempo de espera: 0.0\n",
      "[Tipo de evento: FIM DO SERVIÇO\n",
      " Instante: 79.76918053060794\n",
      " ID Cliente: 10, Tipo de evento: CHEGADA\n",
      " Instante: 81.05791444790101\n",
      " ID Cliente: 18]\n",
      "\n",
      "Tempo 79.76918053060794\n",
      "Saída ID: 10\n",
      " Tempo de chegada: 56.09871580810884\n",
      " Tempo de espera: 23.670464722499098\n",
      "[Tipo de evento: FIM DO SERVIÇO\n",
      " Instante: 80.48342277250734\n",
      " ID Cliente: 11, Tipo de evento: CHEGADA\n",
      " Instante: 81.05791444790101\n",
      " ID Cliente: 18]\n",
      "\n",
      "Tempo 80.48342277250734\n",
      "Saída ID: 11\n",
      " Tempo de chegada: 56.81836852455289\n",
      " Tempo de espera: 23.66505424795445\n",
      "[Tipo de evento: CHEGADA\n",
      " Instante: 81.05791444790101\n",
      " ID Cliente: 18, Tipo de evento: FIM DO SERVIÇO\n",
      " Instante: 81.5336835319781\n",
      " ID Cliente: 12]\n",
      "\n",
      "Tempo 81.05791444790101\n",
      "Chegada ID: 18\n",
      " Tempo de chegada: 81.05791444790101\n",
      " Tempo de espera: 0.0\n",
      "[Tipo de evento: FIM DO SERVIÇO\n",
      " Instante: 81.5336835319781\n",
      " ID Cliente: 12, Tipo de evento: CHEGADA\n",
      " Instante: 83.13523333013646\n",
      " ID Cliente: 19]\n",
      "\n"
     ]
    }
   ],
   "source": [
    "random.seed(42) #setando uma seed pra manter os testes iguais\n",
    "\n",
    "fila1 = []\n",
    "fila2 = []\n",
    "tempo = 0\n",
    "eventos = [ gera_chegadas(0, partial(gera_exponencial, 0.3), 0) ] # começa populando com uma chegada\n",
    "\n",
    "i = 1\n",
    "while i < 20: #loop de eventos, chegada de 10 clientes\n",
    "    atual = eventos.pop(0)\n",
    "    tempo = atual.instante_t\n",
    "    print(\"Tempo\", tempo)\n",
    "    \n",
    "    if atual.tipo_evento == CHEGADA: #evento de chegada\n",
    "        fila1.append( cria_cliente(atual, cor) ) #adiciona o cliente chegado na fila\n",
    "        eventos.append(gera_chegadas(tempo, partial(gera_exponencial, 0.3), i) ) #cria o próximo evento de chegada\n",
    "        print(\"Chegada\", fila1[-1])\n",
    "        \n",
    "        checa_termino = any([e.tipo_evento == FIM_DO_SERVICO for e in eventos])\n",
    "        if not checa_termino: #essa foi a primeira chegada (não tem pessoas na fila 1)\n",
    "            eventos.append( gera_fim_servico(tempo, partial(gera_exponencial, 0.3), atual.id_cliente) ) #adiciona o próximo evento de término\n",
    "        i+= 1\n",
    "    \n",
    "    elif atual.tipo_evento == FIM_DO_SERVICO:\n",
    "        cliente = fila1.pop(0) #remove o primeiro da fila\n",
    "        cliente.tempo_espera = tempo - cliente.tempo_chegada #atualiza o tempo q esperou\n",
    "        \n",
    "        if len(fila1) != 0: #se a fila não estiver vazia\n",
    "            eventos.append( gera_fim_servico(tempo, partial(gera_exponencial, 0.3), fila1[0].id) ) #cria evento de término para o próximo da fila\n",
    "        print(\"Saída\", cliente)\n",
    "        \n",
    "    eventos.sort(key = lambda e: e.instante_t)\n",
    "    print(eventos)\n",
    "    print()\n",
    "#eventos"
   ]
  },
  {
   "cell_type": "markdown",
   "metadata": {},
   "source": [
    "## Testes de correção"
   ]
  },
  {
   "cell_type": "markdown",
   "metadata": {},
   "source": [
    "### Corretude do simulador"
   ]
  },
  {
   "cell_type": "code",
   "execution_count": null,
   "metadata": {},
   "outputs": [],
   "source": []
  },
  {
   "cell_type": "markdown",
   "metadata": {},
   "source": [
    "## Estimativa da fase transiente"
   ]
  },
  {
   "cell_type": "code",
   "execution_count": null,
   "metadata": {},
   "outputs": [],
   "source": []
  }
 ],
 "metadata": {
  "kernelspec": {
   "display_name": "Python 3",
   "language": "python",
   "name": "python3"
  },
  "language_info": {
   "codemirror_mode": {
    "name": "ipython",
    "version": 3
   },
   "file_extension": ".py",
   "mimetype": "text/x-python",
   "name": "python",
   "nbconvert_exporter": "python",
   "pygments_lexer": "ipython3",
   "version": "3.10.8"
  },
  "vscode": {
   "interpreter": {
    "hash": "cf92aa13fedf815d5c8dd192b8d835913fde3e8bc926b2a0ad6cc74ef2ba3ca2"
   }
  }
 },
 "nbformat": 4,
 "nbformat_minor": 2
}
