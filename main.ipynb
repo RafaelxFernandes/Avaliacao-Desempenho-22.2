{
 "cells": [
  {
   "cell_type": "markdown",
   "metadata": {},
   "source": [
    "## Bibliotecas"
   ]
  },
  {
   "cell_type": "code",
   "execution_count": 1,
   "metadata": {},
   "outputs": [],
   "source": [
    "import random\n",
    "import math\n",
    "import time\n",
    "\n",
    "import matplotlib.pyplot as plt\n",
    "import pandas as pd\n",
    "\n",
    "from functools import partial\n",
    "from scipy.stats import t, chi2"
   ]
  },
  {
   "cell_type": "markdown",
   "metadata": {},
   "source": [
    "## Variáveis globais"
   ]
  },
  {
   "cell_type": "code",
   "execution_count": 2,
   "metadata": {},
   "outputs": [],
   "source": [
    "# N_RODADAS = 3300\n",
    "N_RODADAS = 10\n",
    "\n",
    "N_AMOSTRAS = 1000\n",
    "\n",
    "MU = 1.0\n",
    "RHOS = [0.2, 0.4, 0.6, 0.8, 0.9]\n",
    "\n",
    "CHEGADA = 0\n",
    "FIM_DO_SERVICO_1 = 1\n",
    "FIM_DO_SERVICO_2 = 2"
   ]
  },
  {
   "cell_type": "markdown",
   "metadata": {},
   "source": [
    "## Funcionamento geral"
   ]
  },
  {
   "cell_type": "markdown",
   "metadata": {},
   "source": [
    "### Gerando VAs exponenciais\n",
    "Resultado mostrado na aula 5, slide 5."
   ]
  },
  {
   "cell_type": "code",
   "execution_count": 3,
   "metadata": {},
   "outputs": [],
   "source": [
    "def gera_exponencial(rho):\n",
    "\n",
    "    # Gera VA uniforme no intervalo [0.0, 1.0)\n",
    "    u0 = random.random()\n",
    "\n",
    "    # Pega amostra da exponencial\n",
    "    x0 = -math.log(u0)/ rho\n",
    "\n",
    "    return x0"
   ]
  },
  {
   "cell_type": "markdown",
   "metadata": {},
   "source": [
    "### Gerando números aleatórios\n",
    "Os seeds em Python são definidos por meio da função random.seed(int) e fixamos um seed antes cada simulação para garantir a reprodutibilidade dos resultados. Para garantir a independência dos seeds, rodamos o algoritmo com alguns seeds diferentes ao longo do trabalho.\n",
    "\n",
    "Além disso também fizemos alguns testes para mostrar que não há sobreposição entre os intervalos gerados pelos seeds.\n",
    "\n",
    "Mesmo usando seeds próximas (0 e 1, por exemplo) não encontramos sobreposição das sequências de valores nem uma correlação significativa. Acreditamos que isso se deve ao fato de o Python utilizar o algoritmo do Mersenne Twister para gerar números pseudoaleatórios (https://en.wikipedia.org/wiki/Mersenne_Twister)."
   ]
  },
  {
   "cell_type": "code",
   "execution_count": 4,
   "metadata": {},
   "outputs": [],
   "source": [
    "def gera_amostras(rho, seed):\n",
    "\n",
    "    rodadas = []\n",
    "\n",
    "    random.seed(seed)\n",
    "    \n",
    "    for _ in range(N_RODADAS):\n",
    "        amostras = []\n",
    "\n",
    "        for _ in range(N_AMOSTRAS):\n",
    "            amostras.append(gera_exponencial(rho))\n",
    "        \n",
    "        rodadas.append(amostras)\n",
    "    \n",
    "    # Lista de rodadas com números aleatórios gerados pela amostra exponencial\n",
    "    return rodadas"
   ]
  },
  {
   "cell_type": "markdown",
   "metadata": {},
   "source": [
    "#### Teste 1"
   ]
  },
  {
   "cell_type": "markdown",
   "metadata": {},
   "source": [
    "Primeiro geramos 2 vetores com váriaveis exponenciais com mesma taxa, cada um a partir de uma seed diferente. E depois verificamos se existem valores em comuns nesses vetores."
   ]
  },
  {
   "cell_type": "code",
   "execution_count": 5,
   "metadata": {},
   "outputs": [],
   "source": [
    "def teste_gera_amostras(rodadas_A, rodadas_B):\n",
    "\n",
    "    tamanho_lista_rodadas = len(rodadas_A)\n",
    "\n",
    "    for rodada_A in range(tamanho_lista_rodadas - 1):\n",
    "        lista_rodada = rodadas_A[rodada_A]\n",
    "\n",
    "        for rodada_B in range(tamanho_lista_rodadas):\n",
    "            verifica_lista = rodadas_B[rodada_B]\n",
    "\n",
    "            verificacao = list(set(lista_rodada).intersection(verifica_lista))\n",
    "            if(len(verificacao) > 0):\n",
    "                return \"Foram encontrados valores iguais\"\n",
    "            \n",
    "    return \"Não há valores iguais entre as duas rodadas\"       "
   ]
  },
  {
   "cell_type": "markdown",
   "metadata": {},
   "source": [
    "Exemplo:"
   ]
  },
  {
   "cell_type": "code",
   "execution_count": 6,
   "metadata": {},
   "outputs": [
    {
     "data": {
      "text/plain": [
       "'Não há valores iguais entre as duas rodadas'"
      ]
     },
     "execution_count": 6,
     "metadata": {},
     "output_type": "execute_result"
    }
   ],
   "source": [
    "rodadas_A = gera_amostras(0.3, 0)\n",
    "rodadas_B = gera_amostras(0.3, 1)\n",
    "\n",
    "teste_gera_amostras(rodadas_A, rodadas_B)"
   ]
  },
  {
   "cell_type": "markdown",
   "metadata": {},
   "source": [
    "#### Teste 2"
   ]
  },
  {
   "cell_type": "markdown",
   "metadata": {},
   "source": [
    "No outro teste geramos 2 vetores também e verificamos o indíce de correlação (Pearson) entre eles.\n",
    "\n",
    "- +1: correlação positiva completa\n",
    "- +0.8: correlação positiva forte\n",
    "- +0.6: correlação positiva moderada\n",
    "- 0: nenhuma correlação\n",
    "- -0.6: correlação negativa moderada\n",
    "- -0.8: correlação negativa forte\n",
    "- -1: correlação negativa completa\n",
    "\n",
    "Referência: https://stackabuse.com/calculating-pearson-correlation-coefficient-in-python-with-numpy/\n"
   ]
  },
  {
   "cell_type": "code",
   "execution_count": 7,
   "metadata": {},
   "outputs": [],
   "source": [
    "def teste_pearson_gera_amostras(seed_1, seed_2):\n",
    "\n",
    "    rodadas = []\n",
    "    amostras_1 = []\n",
    "    amostras_2 = []\n",
    "\n",
    "    random.seed(seed_1)\n",
    "    for _ in range(N_AMOSTRAS):\n",
    "        amostras_1.append(random.random())\n",
    "    rodadas.append(amostras_1)\n",
    "\n",
    "    random.seed(seed_2)\n",
    "    for _ in range(N_AMOSTRAS):\n",
    "        amostras_2.append(random.random())\n",
    "    rodadas.append(amostras_2)\n",
    "\n",
    "    x_pearson = pd.Series(rodadas[0])\n",
    "    y_pearson = pd.Series(rodadas[1])\n",
    "\n",
    "    resultado = x_pearson.corr(y_pearson)\n",
    "\n",
    "    return resultado"
   ]
  },
  {
   "cell_type": "markdown",
   "metadata": {},
   "source": [
    "Exemplo:"
   ]
  },
  {
   "cell_type": "code",
   "execution_count": 8,
   "metadata": {},
   "outputs": [
    {
     "data": {
      "text/plain": [
       "0.015488472306667765"
      ]
     },
     "execution_count": 8,
     "metadata": {},
     "output_type": "execute_result"
    }
   ],
   "source": [
    "teste_pearson_gera_amostras(0, 1)"
   ]
  },
  {
   "cell_type": "markdown",
   "metadata": {},
   "source": [
    "### Eventos"
   ]
  },
  {
   "cell_type": "code",
   "execution_count": 9,
   "metadata": {},
   "outputs": [],
   "source": [
    "class Evento:\n",
    "\n",
    "    def __init__(self, tipo_evento, instante_t, tempo_execucao, id_cliente):\n",
    "        self.tipo_evento = tipo_evento\n",
    "        self.instante_t = instante_t #tempo em que o evento foi criado + tempo até ser executado\n",
    "        self.tempo_execucao = tempo_execucao #tempo até ser executado\n",
    "        self.id_cliente = id_cliente\n",
    "\n",
    "    # Define como a classe é impressa\n",
    "    def __repr__(self):\n",
    "        if(self.tipo_evento == CHEGADA):\n",
    "            escreve_string = \"CHEGADA\"\n",
    "        elif self.tipo_evento == FIM_DO_SERVICO_1:\n",
    "            escreve_string = \"FIM DO SERVIÇO 1\"\n",
    "        else:\n",
    "            escreve_string = \"FIM DO SERVIÇO 2\"\n",
    "\n",
    "        return f\"Tipo de evento: {escreve_string}\\n Instante: {self.instante_t}\\n ID Cliente: {self.id_cliente}\""
   ]
  },
  {
   "cell_type": "markdown",
   "metadata": {},
   "source": [
    "Exemplo:"
   ]
  },
  {
   "cell_type": "code",
   "execution_count": 10,
   "metadata": {},
   "outputs": [
    {
     "data": {
      "text/plain": [
       "Tipo de evento: CHEGADA\n",
       " Instante: 0.1\n",
       " ID Cliente: 0"
      ]
     },
     "execution_count": 10,
     "metadata": {},
     "output_type": "execute_result"
    }
   ],
   "source": [
    "evento = Evento(CHEGADA, 0.1, 0, 0)\n",
    "evento"
   ]
  },
  {
   "cell_type": "markdown",
   "metadata": {},
   "source": [
    "### Clientes"
   ]
  },
  {
   "cell_type": "code",
   "execution_count": 11,
   "metadata": {},
   "outputs": [],
   "source": [
    "class Cliente:\n",
    "\n",
    "    def __init__(self, chegada_evento, cor):\n",
    "        self.id = chegada_evento.id_cliente\n",
    "        self.tempo_chegada = chegada_evento.instante_t\n",
    "        self.tempo_execucao_1 = 0.0\n",
    "        self.tempo_execucao_2 = 0.0\n",
    "        self.tempo_espera_1 = 0.0\n",
    "        self.tempo_espera_2 = 0.0\n",
    "        self.cor = cor\n",
    "\n",
    "    # Define como a classe é impressa\n",
    "    def __repr__(self):\n",
    "        return f\"\"\"ID: {self.id}\n",
    "        Tempo de chegada: {self.tempo_chegada}\n",
    "        Tempo de espera na fila 1: {self.tempo_espera_1}\n",
    "        Tempo de execucao no servico 1: {self.tempo_execucao_1}\n",
    "        Tempo de espera na fila 2: {self.tempo_espera_2}\n",
    "        Tempo de execucao no servico 2: {self.tempo_execucao_2}\"\"\""
   ]
  },
  {
   "cell_type": "code",
   "execution_count": 12,
   "metadata": {},
   "outputs": [],
   "source": [
    "def cria_cliente(evento, cor):\n",
    "    novo_cliente = Cliente(evento, cor)\n",
    "    return novo_cliente"
   ]
  },
  {
   "cell_type": "markdown",
   "metadata": {},
   "source": [
    "Exemplo:"
   ]
  },
  {
   "cell_type": "code",
   "execution_count": 13,
   "metadata": {},
   "outputs": [
    {
     "data": {
      "text/plain": [
       "ID: 0\n",
       "        Tempo de chegada: 0.1\n",
       "        Tempo de espera na fila 1: 0.0\n",
       "        Tempo de execucao no servico 1: 0.0\n",
       "        Tempo de espera na fila 2: 0.0\n",
       "        Tempo de execucao no servico 2: 0.0"
      ]
     },
     "execution_count": 13,
     "metadata": {},
     "output_type": "execute_result"
    }
   ],
   "source": [
    "cor = \"%06x\" % random.randint(0, 0xFFFFFF)\n",
    "cliente = cria_cliente(evento, cor)\n",
    "cliente"
   ]
  },
  {
   "cell_type": "markdown",
   "metadata": {},
   "source": [
    "### Gerando chegadas"
   ]
  },
  {
   "cell_type": "code",
   "execution_count": 14,
   "metadata": {},
   "outputs": [],
   "source": [
    "def gera_chegadas(instante_t, distribuicao_chegada, id_cliente):\n",
    "    chegada = distribuicao_chegada()\n",
    "    chegada = Evento(CHEGADA, instante_t + chegada, chegada, id_cliente)\n",
    "    return chegada"
   ]
  },
  {
   "cell_type": "markdown",
   "metadata": {},
   "source": [
    "Exemplo:"
   ]
  },
  {
   "cell_type": "code",
   "execution_count": 15,
   "metadata": {},
   "outputs": [
    {
     "data": {
      "text/plain": [
       "Tipo de evento: CHEGADA\n",
       " Instante: 7.3608989036521555\n",
       " ID Cliente: 0"
      ]
     },
     "execution_count": 15,
     "metadata": {},
     "output_type": "execute_result"
    }
   ],
   "source": [
    "chegada = gera_chegadas(1, partial(gera_exponencial, 0.3), 0)\n",
    "chegada"
   ]
  },
  {
   "cell_type": "markdown",
   "metadata": {},
   "source": [
    "### Gerando fins de serviço"
   ]
  },
  {
   "cell_type": "code",
   "execution_count": 16,
   "metadata": {},
   "outputs": [],
   "source": [
    "def gera_fim_servico(instante_t, distribuicao_servico, id_cliente, tipo):\n",
    "    servico = distribuicao_servico()\n",
    "    fim_servico = Evento(tipo, instante_t + servico, servico, id_cliente)\n",
    "    return fim_servico"
   ]
  },
  {
   "cell_type": "markdown",
   "metadata": {},
   "source": [
    "Exemplo:"
   ]
  },
  {
   "cell_type": "code",
   "execution_count": 17,
   "metadata": {},
   "outputs": [
    {
     "data": {
      "text/plain": [
       "Tipo de evento: FIM DO SERVIÇO 1\n",
       " Instante: 14.537812031853182\n",
       " ID Cliente: 1"
      ]
     },
     "execution_count": 17,
     "metadata": {},
     "output_type": "execute_result"
    }
   ],
   "source": [
    "fim_servico = gera_fim_servico(10, partial(gera_exponencial, 0.3), 1, FIM_DO_SERVICO_1)\n",
    "fim_servico"
   ]
  },
  {
   "cell_type": "markdown",
   "metadata": {},
   "source": [
    "### Intervalos de confiança"
   ]
  },
  {
   "cell_type": "markdown",
   "metadata": {},
   "source": [
    "#### T-Student\n",
    "Resultado apresentado na aula 7, slides 4 e 6."
   ]
  },
  {
   "cell_type": "code",
   "execution_count": 18,
   "metadata": {},
   "outputs": [],
   "source": [
    "def t_student(media, variancia, amostras):\n",
    "    t_student_percentil = t(df = amostras - 1).ppf((0.025, 0.975))[1]\n",
    "\n",
    "    # Verifica se a média e variância têm valores nulos (ou próximos disso)\n",
    "    if(math.isclose(media, 0, abs_tol = 1e-9)):\n",
    "        media = 0\n",
    "\n",
    "    if(math.isclose(variancia, 0, abs_tol = 1e-9)):\n",
    "        variancia = 0\n",
    "\n",
    "    # Se a média e variância forem nulas\n",
    "    if(not(media or variancia)):\n",
    "        return 0.0, 0.0, 0.0\n",
    "\n",
    "    desvio_padrao = math.sqrt(variancia)\n",
    "\n",
    "    # Metade do intervalo\n",
    "    metade = t_student_percentil * (desvio_padrao/ math.sqrt(amostras))\n",
    "\n",
    "    # Limite superior do intervalo\n",
    "    limite_superior = media + metade\n",
    "\n",
    "    # Limite inferior do intervalo\n",
    "    limite_inferior = media - metade\n",
    "\n",
    "    # Precisão do intervalo\n",
    "    precisao = metade/ media\n",
    "\n",
    "    return limite_superior, limite_inferior, precisao"
   ]
  },
  {
   "cell_type": "markdown",
   "metadata": {},
   "source": [
    "#### Chi-Quadrado\n",
    "Resultado apresentado na aula 7, slides 12 ao 14."
   ]
  },
  {
   "cell_type": "code",
   "execution_count": 19,
   "metadata": {},
   "outputs": [],
   "source": [
    "def chi_quadrado(variancia, amostras):\n",
    "    chi2_0025_percentil, chi2_0975_percentil = chi2(df = amostras - 1).ppf((0.025, 0.975))\n",
    "\n",
    "    if(variancia == 0.0):\n",
    "        return 0.0, 0.0, 0.0\n",
    "\n",
    "    else:\n",
    "        limite_superior = (amostras) * variancia/ chi2_0975_percentil\n",
    "        limite_inferior = (amostras) * variancia/ chi2_0025_percentil\n",
    "\n",
    "        # Enunciado pede que seja aproximadamente 0.05\n",
    "        precisao = (chi2_0975_percentil - chi2_0025_percentil)/ (chi2_0975_percentil + chi2_0025_percentil)\n",
    "\n",
    "        return limite_superior, limite_inferior, precisao"
   ]
  },
  {
   "cell_type": "markdown",
   "metadata": {},
   "source": [
    "### Estimadores"
   ]
  },
  {
   "attachments": {},
   "cell_type": "markdown",
   "metadata": {},
   "source": [
    "Essa classe permite o cálculo iterativo da média e da variância de uma variável, recebendo uma amostra de cada vez.\n",
    "Esse resultado foi apresentado na aula 7, slide 19."
   ]
  },
  {
   "cell_type": "code",
   "execution_count": 20,
   "metadata": {},
   "outputs": [],
   "source": [
    "class Estimador:\n",
    "\n",
    "    def __init__(self, debug=False):\n",
    "        self.soma_amostras = 0.0\n",
    "        self.quadrado_soma_amostras = 0.0\n",
    "        self.numero_amostras = 0\n",
    "        self.debug = debug\n",
    "        \n",
    "        self.medias = []\n",
    "        self.variancias = []\n",
    "        self.pesos = []\n",
    "\n",
    "    def adiciona_amostra(self, amostra, peso=1):\n",
    "        peso = 1\n",
    "        self.soma_amostras += amostra*peso\n",
    "        self.quadrado_soma_amostras += ((amostra) ** 2)\n",
    "        self.numero_amostras += peso\n",
    "        \n",
    "        #salvar resultados intermediários para plots futuros\n",
    "        if self.debug and self.numero_amostras > 1:\n",
    "            self.pesos.append(self.numero_amostras)\n",
    "            self.medias.append(self.media())\n",
    "            self.variancias.append(self.variancia())\n",
    "\n",
    "    def media(self):\n",
    "        return self.soma_amostras/ self.numero_amostras\n",
    "\n",
    "    def variancia(self):\n",
    "        termo_auxiliar_1 = self.quadrado_soma_amostras/ (self.numero_amostras - 1)\n",
    "        termo_auxiliar_2 = (self.soma_amostras ** 2)/ (self.numero_amostras * (self.numero_amostras - 1))\n",
    "        return termo_auxiliar_1 - termo_auxiliar_2\n",
    "\n",
    "    def t_student(self):\n",
    "        return t_student(self.media(), self.variancia(), self.numero_amostras)\n",
    "\n",
    "    def variancia_chi_quadrado(self):\n",
    "        return chi_quadrado(self.variancia(), self.numero_amostras)\n",
    "\n",
    "    def chi_quadrado(self):\n",
    "        return chi_quadrado(self.media(), self.numero_amostras)"
   ]
  },
  {
   "cell_type": "code",
   "execution_count": 21,
   "metadata": {},
   "outputs": [
    {
     "data": {
      "text/plain": [
       "0.042140685846143874"
      ]
     },
     "execution_count": 21,
     "metadata": {},
     "output_type": "execute_result"
    }
   ],
   "source": [
    "estimador = Estimador(debug=True)\n",
    "estimador.adiciona_amostra(10)\n",
    "estimador.adiciona_amostra(11)\n",
    "estimador.adiciona_amostra(10)\n",
    "estimador.adiciona_amostra(10)\n",
    "estimador.adiciona_amostra(10)\n",
    "estimador.adiciona_amostra(10)\n",
    "estimador.t_student()[2]"
   ]
  },
  {
   "cell_type": "markdown",
   "metadata": {},
   "source": [
    "## Simulador"
   ]
  },
  {
   "cell_type": "markdown",
   "metadata": {},
   "source": [
    "### Base"
   ]
  },
  {
   "cell_type": "markdown",
   "metadata": {},
   "source": [
    "Código base para simular o sistema com prints depurativos para acompanhar chegadas"
   ]
  },
  {
   "cell_type": "code",
   "execution_count": 22,
   "metadata": {},
   "outputs": [
    {
     "name": "stdout",
     "output_type": "stream",
     "text": [
      "Tempo 4.502981437579455\n",
      "Chegada ID: 0\n",
      "        Tempo de chegada: 4.502981437579455\n",
      "        Tempo de espera na fila 1: 0.0\n",
      "        Tempo de execucao no servico 1: 0.0\n",
      "        Tempo de espera na fila 2: 0.0\n",
      "        Tempo de execucao no servico 2: 0.0\n",
      "[Tipo de evento: FIM DO SERVIÇO 1\n",
      " Instante: 4.88265904292863\n",
      " ID Cliente: 0, Tipo de evento: CHEGADA\n",
      " Instante: 5.762847702789278\n",
      " ID Cliente: 1]\n",
      "\n",
      "Tempo 4.88265904292863\n",
      "Saída 1 ID: 0\n",
      "        Tempo de chegada: 4.502981437579455\n",
      "        Tempo de espera na fila 1: -1.6653345369377348e-16\n",
      "        Tempo de execucao no servico 1: 0.37967760534917544\n",
      "        Tempo de espera na fila 2: 0.0\n",
      "        Tempo de execucao no servico 2: 0.0\n",
      "[Tipo de evento: FIM DO SERVIÇO 2\n",
      " Instante: 5.0459592641554\n",
      " ID Cliente: 0, Tipo de evento: CHEGADA\n",
      " Instante: 5.762847702789278\n",
      " ID Cliente: 1]\n",
      "\n",
      "Tempo 5.0459592641554\n",
      "Saída 2 ID: 0\n",
      "        Tempo de chegada: 4.502981437579455\n",
      "        Tempo de espera na fila 1: -1.6653345369377348e-16\n",
      "        Tempo de execucao no servico 1: 0.37967760534917544\n",
      "        Tempo de espera na fila 2: -8.326672684688674e-17\n",
      "        Tempo de execucao no servico 2: 0.16330022122676988\n",
      "[Tipo de evento: CHEGADA\n",
      " Instante: 5.762847702789278\n",
      " ID Cliente: 1]\n",
      "\n",
      "Tempo 5.762847702789278\n",
      "Chegada ID: 1\n",
      "        Tempo de chegada: 5.762847702789278\n",
      "        Tempo de espera na fila 1: 0.0\n",
      "        Tempo de execucao no servico 1: 0.0\n",
      "        Tempo de espera na fila 2: 0.0\n",
      "        Tempo de execucao no servico 2: 0.0\n",
      "[Tipo de evento: FIM DO SERVIÇO 1\n",
      " Instante: 7.2300978828248885\n",
      " ID Cliente: 1, Tipo de evento: CHEGADA\n",
      " Instante: 11.374489843021717\n",
      " ID Cliente: 2]\n",
      "\n",
      "Tempo 7.2300978828248885\n",
      "Saída 1 ID: 1\n",
      "        Tempo de chegada: 5.762847702789278\n",
      "        Tempo de espera na fila 1: 2.220446049250313e-16\n",
      "        Tempo de execucao no servico 1: 1.4672501800356101\n",
      "        Tempo de espera na fila 2: 0.0\n",
      "        Tempo de execucao no servico 2: 0.0\n",
      "[Tipo de evento: FIM DO SERVIÇO 2\n",
      " Instante: 9.146333287642788\n",
      " ID Cliente: 1, Tipo de evento: CHEGADA\n",
      " Instante: 11.374489843021717\n",
      " ID Cliente: 2]\n",
      "\n",
      "Tempo 9.146333287642788\n",
      "Saída 2 ID: 1\n",
      "        Tempo de chegada: 5.762847702789278\n",
      "        Tempo de espera na fila 1: 2.220446049250313e-16\n",
      "        Tempo de execucao no servico 1: 1.4672501800356101\n",
      "        Tempo de espera na fila 2: 0.0\n",
      "        Tempo de execucao no servico 2: 1.9162354048178996\n",
      "[Tipo de evento: CHEGADA\n",
      " Instante: 11.374489843021717\n",
      " ID Cliente: 2]\n",
      "\n",
      "Tempo 11.374489843021717\n",
      "Chegada ID: 2\n",
      "        Tempo de chegada: 11.374489843021717\n",
      "        Tempo de espera na fila 1: 0.0\n",
      "        Tempo de execucao no servico 1: 0.0\n",
      "        Tempo de espera na fila 2: 0.0\n",
      "        Tempo de execucao no servico 2: 0.0\n",
      "[Tipo de evento: FIM DO SERVIÇO 1\n",
      " Instante: 11.683703938303086\n",
      " ID Cliente: 2, Tipo de evento: CHEGADA\n",
      " Instante: 16.344259779021087\n",
      " ID Cliente: 3]\n",
      "\n",
      "Tempo 11.683703938303086\n",
      "Saída 1 ID: 2\n",
      "        Tempo de chegada: 11.374489843021717\n",
      "        Tempo de espera na fila 1: 4.440892098500626e-16\n",
      "        Tempo de execucao no servico 1: 0.3092140952813689\n",
      "        Tempo de espera na fila 2: 0.0\n",
      "        Tempo de execucao no servico 2: 0.0\n",
      "[Tipo de evento: FIM DO SERVIÇO 2\n",
      " Instante: 13.722287471316251\n",
      " ID Cliente: 2, Tipo de evento: CHEGADA\n",
      " Instante: 16.344259779021087\n",
      " ID Cliente: 3]\n",
      "\n",
      "Tempo 13.722287471316251\n",
      "Saída 2 ID: 2\n",
      "        Tempo de chegada: 11.374489843021717\n",
      "        Tempo de espera na fila 1: 4.440892098500626e-16\n",
      "        Tempo de execucao no servico 1: 0.3092140952813689\n",
      "        Tempo de espera na fila 2: 0.0\n",
      "        Tempo de execucao no servico 2: 2.038583533013165\n",
      "[Tipo de evento: CHEGADA\n",
      " Instante: 16.344259779021087\n",
      " ID Cliente: 3]\n",
      "\n",
      "Tempo 16.344259779021087\n",
      "Chegada ID: 3\n",
      "        Tempo de chegada: 16.344259779021087\n",
      "        Tempo de espera na fila 1: 0.0\n",
      "        Tempo de execucao no servico 1: 0.0\n",
      "        Tempo de espera na fila 2: 0.0\n",
      "        Tempo de execucao no servico 2: 0.0\n",
      "[Tipo de evento: FIM DO SERVIÇO 1\n",
      " Instante: 17.886471236869582\n",
      " ID Cliente: 3, Tipo de evento: CHEGADA\n",
      " Instante: 18.45226204682543\n",
      " ID Cliente: 4]\n",
      "\n",
      "Tempo 17.886471236869582\n",
      "Saída 1 ID: 3\n",
      "        Tempo de chegada: 16.344259779021087\n",
      "        Tempo de espera na fila 1: 2.220446049250313e-16\n",
      "        Tempo de execucao no servico 1: 1.542211457848495\n",
      "        Tempo de espera na fila 2: 0.0\n",
      "        Tempo de execucao no servico 2: 0.0\n",
      "[Tipo de evento: CHEGADA\n",
      " Instante: 18.45226204682543\n",
      " ID Cliente: 4, Tipo de evento: FIM DO SERVIÇO 2\n",
      " Instante: 19.10841538352262\n",
      " ID Cliente: 3]\n",
      "\n",
      "Tempo 18.45226204682543\n",
      "Chegada ID: 4\n",
      "        Tempo de chegada: 18.45226204682543\n",
      "        Tempo de espera na fila 1: 0.0\n",
      "        Tempo de execucao no servico 1: 0.0\n",
      "        Tempo de espera na fila 2: 0.0\n",
      "        Tempo de execucao no servico 2: 0.0\n",
      "[Tipo de evento: FIM DO SERVIÇO 1\n",
      " Instante: 18.629409201355013\n",
      " ID Cliente: 4, Tipo de evento: FIM DO SERVIÇO 2\n",
      " Instante: 19.2855625380522\n",
      " ID Cliente: 3, Tipo de evento: CHEGADA\n",
      " Instante: 21.253267463386024\n",
      " ID Cliente: 5]\n",
      "\n",
      "Tempo 18.629409201355013\n",
      "Saída 1 ID: 4\n",
      "        Tempo de chegada: 18.45226204682543\n",
      "        Tempo de espera na fila 1: 1.4432899320127035e-15\n",
      "        Tempo de execucao no servico 1: 0.1771471545295803\n",
      "        Tempo de espera na fila 2: 0.0\n",
      "        Tempo de execucao no servico 2: 0.0\n",
      "[Tipo de evento: FIM DO SERVIÇO 2\n",
      " Instante: 19.2855625380522\n",
      " ID Cliente: 3, Tipo de evento: CHEGADA\n",
      " Instante: 21.253267463386024\n",
      " ID Cliente: 5]\n",
      "\n",
      "Tempo 19.2855625380522\n",
      "Saída 2 ID: 3\n",
      "        Tempo de chegada: 16.344259779021087\n",
      "        Tempo de espera na fila 1: 2.220446049250313e-16\n",
      "        Tempo de execucao no servico 1: 1.542211457848495\n",
      "        Tempo de espera na fila 2: 0.1771471545295802\n",
      "        Tempo de execucao no servico 2: 1.2219441466530385\n",
      "[Tipo de evento: FIM DO SERVIÇO 2\n",
      " Instante: 19.78248172629007\n",
      " ID Cliente: 4, Tipo de evento: CHEGADA\n",
      " Instante: 21.253267463386024\n",
      " ID Cliente: 5]\n",
      "\n",
      "Tempo 19.78248172629007\n",
      "Saída 2 ID: 4\n",
      "        Tempo de chegada: 18.45226204682543\n",
      "        Tempo de espera na fila 1: 1.4432899320127035e-15\n",
      "        Tempo de execucao no servico 1: 0.1771471545295803\n",
      "        Tempo de espera na fila 2: 0.6561533366971866\n",
      "        Tempo de execucao no servico 2: 0.4969191882378688\n",
      "[Tipo de evento: CHEGADA\n",
      " Instante: 21.253267463386024\n",
      " ID Cliente: 5]\n",
      "\n",
      "Tempo 21.253267463386024\n",
      "Chegada ID: 5\n",
      "        Tempo de chegada: 21.253267463386024\n",
      "        Tempo de espera na fila 1: 0.0\n",
      "        Tempo de execucao no servico 1: 0.0\n",
      "        Tempo de espera na fila 2: 0.0\n",
      "        Tempo de execucao no servico 2: 0.0\n",
      "[Tipo de evento: FIM DO SERVIÇO 1\n",
      " Instante: 22.541213160340863\n",
      " ID Cliente: 5, Tipo de evento: CHEGADA\n",
      " Instante: 35.38086775507348\n",
      " ID Cliente: 6]\n",
      "\n",
      "Tempo 22.541213160340863\n",
      "Saída 1 ID: 5\n",
      "        Tempo de chegada: 21.253267463386024\n",
      "        Tempo de espera na fila 1: 1.1102230246251565e-15\n",
      "        Tempo de execucao no servico 1: 1.2879456969548382\n",
      "        Tempo de espera na fila 2: 0.0\n",
      "        Tempo de execucao no servico 2: 0.0\n",
      "[Tipo de evento: FIM DO SERVIÇO 2\n",
      " Instante: 24.460508395775964\n",
      " ID Cliente: 5, Tipo de evento: CHEGADA\n",
      " Instante: 35.38086775507348\n",
      " ID Cliente: 6]\n",
      "\n",
      "Tempo 24.460508395775964\n",
      "Saída 2 ID: 5\n",
      "        Tempo de chegada: 21.253267463386024\n",
      "        Tempo de espera na fila 1: 1.1102230246251565e-15\n",
      "        Tempo de execucao no servico 1: 1.2879456969548382\n",
      "        Tempo de espera na fila 2: -4.440892098500626e-16\n",
      "        Tempo de execucao no servico 2: 1.9192952354351012\n",
      "[Tipo de evento: CHEGADA\n",
      " Instante: 35.38086775507348\n",
      " ID Cliente: 6]\n",
      "\n",
      "Tempo 35.38086775507348\n",
      "Chegada ID: 6\n",
      "        Tempo de chegada: 35.38086775507348\n",
      "        Tempo de espera na fila 1: 0.0\n",
      "        Tempo de execucao no servico 1: 0.0\n",
      "        Tempo de espera na fila 2: 0.0\n",
      "        Tempo de execucao no servico 2: 0.0\n",
      "[Tipo de evento: FIM DO SERVIÇO 1\n",
      " Instante: 35.5919103057116\n",
      " ID Cliente: 6, Tipo de evento: CHEGADA\n",
      " Instante: 35.84015594292348\n",
      " ID Cliente: 7]\n",
      "\n",
      "Tempo 35.5919103057116\n",
      "Saída 1 ID: 6\n",
      "        Tempo de chegada: 35.38086775507348\n",
      "        Tempo de espera na fila 1: 2.1371793224034263e-15\n",
      "        Tempo de execucao no servico 1: 0.21104255063811692\n",
      "        Tempo de espera na fila 2: 0.0\n",
      "        Tempo de execucao no servico 2: 0.0\n",
      "[Tipo de evento: FIM DO SERVIÇO 2\n",
      " Instante: 35.80752373217134\n",
      " ID Cliente: 6, Tipo de evento: CHEGADA\n",
      " Instante: 35.84015594292348\n",
      " ID Cliente: 7]\n",
      "\n",
      "Tempo 35.80752373217134\n",
      "Saída 2 ID: 6\n",
      "        Tempo de chegada: 35.38086775507348\n",
      "        Tempo de espera na fila 1: 2.1371793224034263e-15\n",
      "        Tempo de execucao no servico 1: 0.21104255063811692\n",
      "        Tempo de espera na fila 2: -2.0816681711721685e-15\n",
      "        Tempo de execucao no servico 2: 0.21561342645974188\n",
      "[Tipo de evento: CHEGADA\n",
      " Instante: 35.84015594292348\n",
      " ID Cliente: 7]\n",
      "\n",
      "Tempo 35.84015594292348\n",
      "Chegada ID: 7\n",
      "        Tempo de chegada: 35.84015594292348\n",
      "        Tempo de espera na fila 1: 0.0\n",
      "        Tempo de execucao no servico 1: 0.0\n",
      "        Tempo de espera na fila 2: 0.0\n",
      "        Tempo de execucao no servico 2: 0.0\n",
      "[Tipo de evento: FIM DO SERVIÇO 1\n",
      " Instante: 36.134862425139765\n",
      " ID Cliente: 7, Tipo de evento: CHEGADA\n",
      " Instante: 36.475883619056106\n",
      " ID Cliente: 8]\n",
      "\n",
      "Tempo 36.134862425139765\n",
      "Saída 1 ID: 7\n",
      "        Tempo de chegada: 35.84015594292348\n",
      "        Tempo de espera na fila 1: 2.1094237467877974e-15\n",
      "        Tempo de execucao no servico 1: 0.29470648221628226\n",
      "        Tempo de espera na fila 2: 0.0\n",
      "        Tempo de execucao no servico 2: 0.0\n",
      "[Tipo de evento: FIM DO SERVIÇO 2\n",
      " Instante: 36.18686816610382\n",
      " ID Cliente: 7, Tipo de evento: CHEGADA\n",
      " Instante: 36.475883619056106\n",
      " ID Cliente: 8]\n",
      "\n",
      "Tempo 36.18686816610382\n",
      "Saída 2 ID: 7\n",
      "        Tempo de chegada: 35.84015594292348\n",
      "        Tempo de espera na fila 1: 2.1094237467877974e-15\n",
      "        Tempo de execucao no servico 1: 0.29470648221628226\n",
      "        Tempo de espera na fila 2: 2.7131075164277263e-15\n",
      "        Tempo de execucao no servico 2: 0.052005740964053034\n",
      "[Tipo de evento: CHEGADA\n",
      " Instante: 36.475883619056106\n",
      " ID Cliente: 8]\n",
      "\n",
      "Tempo 36.475883619056106\n",
      "Chegada ID: 8\n",
      "        Tempo de chegada: 36.475883619056106\n",
      "        Tempo de espera na fila 1: 0.0\n",
      "        Tempo de execucao no servico 1: 0.0\n",
      "        Tempo de espera na fila 2: 0.0\n",
      "        Tempo de execucao no servico 2: 0.0\n",
      "[Tipo de evento: CHEGADA\n",
      " Instante: 37.245753080331355\n",
      " ID Cliente: 9, Tipo de evento: FIM DO SERVIÇO 1\n",
      " Instante: 37.83569973768443\n",
      " ID Cliente: 8]\n",
      "\n"
     ]
    }
   ],
   "source": [
    "random.seed(13) #setando uma seed pra manter os testes iguais\n",
    "\n",
    "mu = MU\n",
    "lamb = RHOS[2]/2\n",
    "\n",
    "fila1 = []\n",
    "fila2 = []\n",
    "tempo = 0\n",
    "eventos = [ gera_chegadas(0, partial(gera_exponencial, lamb), 0) ] # começa populando com uma chegada\n",
    "\n",
    "i = 1\n",
    "while i < 10: #loop de eventos, chegada de 10 clientes\n",
    "    atual = eventos.pop(0)\n",
    "    tempo = atual.instante_t\n",
    "    print(\"Tempo\", tempo)\n",
    "    \n",
    "    if atual.tipo_evento == CHEGADA: #evento de chegada\n",
    "        fila1.append( cria_cliente(atual, cor) ) #adiciona o cliente chegado na fila\n",
    "        eventos.append(gera_chegadas(tempo, partial(gera_exponencial, lamb), i) ) #cria o próximo evento de chegada\n",
    "        print(\"Chegada\", fila1[-1])\n",
    "        \n",
    "        checa_termino = any([e.tipo_evento == FIM_DO_SERVICO_1 for e in eventos])\n",
    "        if not checa_termino: #essa foi a primeira chegada (não tem pessoas na fila 1)\n",
    "            prox_fim_1 = gera_fim_servico(tempo, partial(gera_exponencial, mu), atual.id_cliente, FIM_DO_SERVICO_1) \n",
    "            eventos.append( prox_fim_1 ) #adiciona o próximo evento de término 1\n",
    "            \n",
    "            if len(fila2) != 0: # fila 2 tem alguém sendo executado\n",
    "                prox_fim_2 = [e for e in eventos if e.tipo_evento == FIM_DO_SERVICO_2][0] #próximo término da fila 2\n",
    "                prox_fim_2.instante_t += prox_fim_1.tempo_execucao #adia o fim do próximo da fila 2 para após o fim do atual da fila 1\n",
    "        i+= 1\n",
    "    \n",
    "    elif atual.tipo_evento == FIM_DO_SERVICO_1:\n",
    "        cliente = fila1.pop(0) #remove o primeiro da fila 1\n",
    "        fila2.append( cliente ) #coloca cliente na fila 2\n",
    "        \n",
    "        #atualiza tempos do cliente\n",
    "        cliente.tempo_execucao_1= atual.tempo_execucao\n",
    "        cliente.tempo_espera_1 = tempo - cliente.tempo_chegada - atual.tempo_execucao\n",
    "        \n",
    "        checa_termino = any([e.tipo_evento == FIM_DO_SERVICO_2 for e in eventos])\n",
    "        if not checa_termino: #essa foi o primeiro termino (não tem pessoas na fila 2)\n",
    "            eventos.append( gera_fim_servico(tempo, partial(gera_exponencial, mu), cliente.id, FIM_DO_SERVICO_2) ) #adiciona o próximo evento de término 1\n",
    "        \n",
    "        if len(fila1) == 0: #se a fila 1 estiver vazia\n",
    "            pass\n",
    "        else: #se a fila 1 não estiver vazia\n",
    "            prox_fim_1 = gera_fim_servico(tempo, partial(gera_exponencial, mu), fila1[0].id, FIM_DO_SERVICO_1)  #cria evento de término para o próximo da fila 1\n",
    "            eventos.append( prox_fim_1 ) \n",
    "            \n",
    "            prox_fim_2 = [e for e in eventos if e.tipo_evento == FIM_DO_SERVICO_2][0] #próximo término da fila 2\n",
    "            prox_fim_2.instante_t += prox_fim_1.tempo_execucao #adia o fim do próximo da fila 2 para após o fim do atual da fila 1\n",
    "        \n",
    "        print(\"Saída 1\", cliente)\n",
    "        \n",
    "    elif atual.tipo_evento == FIM_DO_SERVICO_2:\n",
    "        cliente = fila2.pop(0)\n",
    "        \n",
    "        #atualiza tempos do cliente\n",
    "        cliente.tempo_execucao_2= atual.tempo_execucao\n",
    "        cliente.tempo_espera_2 = tempo - cliente.tempo_chegada - cliente.tempo_execucao_1 - cliente.tempo_espera_1 - atual.tempo_execucao\n",
    "        \n",
    "        if len(fila2) != 0:\n",
    "            prox_fim_2 = gera_fim_servico(tempo, partial(gera_exponencial, mu), fila2[0].id, FIM_DO_SERVICO_2)\n",
    "            eventos.append( prox_fim_2 )\n",
    "            \n",
    "        print(\"Saída 2\", cliente)\n",
    "\n",
    "    eventos.sort(key = lambda e: e.instante_t)\n",
    "    print(eventos)\n",
    "    print()\n",
    "#eventos"
   ]
  },
  {
   "cell_type": "markdown",
   "metadata": {},
   "source": [
    "### Estimando a fase transiente"
   ]
  },
  {
   "cell_type": "markdown",
   "metadata": {},
   "source": [
    "Para isso, colocamos a lógica do simulador em uma função e modificamos para salvar as métricas ao longo do tempo e fizemos alguns plots para visualizar onde elas se estabilizam."
   ]
  },
  {
   "attachments": {},
   "cell_type": "markdown",
   "metadata": {},
   "source": [
    "> Acredito que o erro esteja nas linhas\n",
    "\n",
    "N1 = len(fila1)\n",
    "Nq1 = 0 if N1 == 0 else N1 - 1\n",
    "\n",
    "N2 = len(fila2)\n",
    "Nq2 = N2 if N1 > 0 or N2 == 0 else N2-1\n",
    "\n",
    "estimadores[\"N1\"].adiciona_amostra(N1, peso=tempo-tempo_anterior)\n",
    "\n",
    "estimadores[\"Nq1\"].adiciona_amostra(Nq1, peso=tempo-tempo_anterior)\n",
    "\n",
    "estimadores[\"N2\"].adiciona_amostra(N2, peso=tempo-tempo_anterior)\n",
    "\n",
    "estimadores[\"Nq2\"].adiciona_amostra(Nq2, peso=tempo-tempo_anterior)"
   ]
  },
  {
   "cell_type": "code",
   "execution_count": 23,
   "metadata": {},
   "outputs": [],
   "source": [
    "#lamb = lambda\n",
    "#mu = mu\n",
    "#k = número de eventos de partidas tratados\n",
    "def simulador_transiente(lamb, mu, k, debug=False):\n",
    "    fila1 = []\n",
    "    fila2 = []\n",
    "\n",
    "    tempo = 0\n",
    "    tempo_anterior = 0\n",
    "\n",
    "    eventos = [ gera_chegadas(0, partial(gera_exponencial, lamb), 0) ] # começa populando com uma chegada\n",
    "    estimadores = {\n",
    "        \"W1\": Estimador(debug = debug),\n",
    "        \"W2\": Estimador(debug = debug),\n",
    "\n",
    "        \"X1\": Estimador(debug = debug),\n",
    "        \"X2\": Estimador(debug = debug),\n",
    "\n",
    "        \"N1\": Estimador(debug = debug),\n",
    "        \"N2\": Estimador(debug = debug),\n",
    "\n",
    "        \"Nq1\": Estimador(debug = debug),\n",
    "        \"Nq2\": Estimador(debug = debug)\n",
    "    }\n",
    "\n",
    "    i = 0\n",
    "    n_eventos = 0\n",
    "    while n_eventos < k: #loop de eventos, tratar k clientes\n",
    "        atual = eventos.pop(0)\n",
    "        tempo_anterior = tempo\n",
    "        tempo = atual.instante_t\n",
    "        #print(\"Tempo\", tempo, \"\\nEvento\", atual, \"\\n\")\n",
    "\n",
    "        N1 = len(fila1)\n",
    "        Nq1 = 0 if N1 == 0 else N1 - 1\n",
    "\n",
    "        N2 = len(fila2)\n",
    "        Nq2 = N2 if N1 > 0 or N2 == 0 else N2-1\n",
    "\n",
    "        estimadores[\"N1\"].adiciona_amostra(N1, peso=tempo-tempo_anterior)\n",
    "        estimadores[\"Nq1\"].adiciona_amostra(Nq1, peso=tempo-tempo_anterior)\n",
    "\n",
    "        estimadores[\"N2\"].adiciona_amostra(N2, peso=tempo-tempo_anterior)\n",
    "        estimadores[\"Nq2\"].adiciona_amostra(Nq2, peso=tempo-tempo_anterior)\n",
    "\n",
    "        if atual.tipo_evento == CHEGADA: #evento de chegada\n",
    "            fila1.append( cria_cliente(atual, cor) ) #adiciona o cliente chegado na fila\n",
    "            eventos.append(gera_chegadas(tempo, partial(gera_exponencial, lamb), i) ) #cria o próximo evento de chegada\n",
    "            #print(\"Chegada\", fila1[-1])\n",
    "\n",
    "            checa_termino = any([e.tipo_evento == FIM_DO_SERVICO_1 for e in eventos])\n",
    "            if not checa_termino: #essa foi a primeira chegada (não tem pessoas na fila 1)\n",
    "                prox_fim_1 = gera_fim_servico(tempo, partial(gera_exponencial, mu), atual.id_cliente, FIM_DO_SERVICO_1) \n",
    "                eventos.append( prox_fim_1 ) #adiciona o próximo evento de término 1\n",
    "\n",
    "                if len(fila2) != 0: # fila 2 tem alguém sendo executado\n",
    "                    prox_fim_2 = [e for e in eventos if e.tipo_evento == FIM_DO_SERVICO_2][0] #próximo término da fila 2\n",
    "                    prox_fim_2.instante_t += prox_fim_1.tempo_execucao #adia o fim do próximo da fila 2 para após o fim do atual da fila 1\n",
    "            i+= 1\n",
    "\n",
    "        elif atual.tipo_evento == FIM_DO_SERVICO_1:\n",
    "            cliente = fila1.pop(0) #remove o primeiro da fila 1\n",
    "            fila2.append( cliente ) #coloca cliente na fila 2\n",
    "\n",
    "            #atualiza tempos do cliente\n",
    "            cliente.tempo_execucao_1= atual.tempo_execucao\n",
    "            cliente.tempo_espera_1 = tempo - cliente.tempo_chegada - atual.tempo_execucao\n",
    "\n",
    "            checa_termino = any([e.tipo_evento == FIM_DO_SERVICO_2 for e in eventos])\n",
    "            if not checa_termino: #essa foi o primeiro termino (não tem pessoas na fila 2)\n",
    "                eventos.append( gera_fim_servico(tempo, partial(gera_exponencial, mu), cliente.id, FIM_DO_SERVICO_2) ) #adiciona o próximo evento de término 1\n",
    "\n",
    "            if len(fila1) == 0: #se a fila 1 estiver vazia\n",
    "                pass\n",
    "            else: #se a fila 1 não estiver vazia\n",
    "                prox_fim_1 = gera_fim_servico(tempo, partial(gera_exponencial, mu), fila1[0].id, FIM_DO_SERVICO_1)  #cria evento de término para o próximo da fila 1\n",
    "                eventos.append( prox_fim_1 ) \n",
    "\n",
    "                prox_fim_2 = [e for e in eventos if e.tipo_evento == FIM_DO_SERVICO_2][0] #próximo término da fila 2\n",
    "                prox_fim_2.instante_t += prox_fim_1.tempo_execucao #adia o fim do próximo da fila 2 para após o fim do atual da fila 1\n",
    "\n",
    "            #print(\"Saída 1\", cliente)\n",
    "\n",
    "        elif atual.tipo_evento == FIM_DO_SERVICO_2:\n",
    "            cliente = fila2.pop(0)\n",
    "\n",
    "            #atualiza tempos do cliente\n",
    "            cliente.tempo_execucao_2= atual.tempo_execucao\n",
    "            cliente.tempo_espera_2 = tempo - cliente.tempo_chegada - cliente.tempo_execucao_1 - cliente.tempo_espera_1 - atual.tempo_execucao\n",
    "\n",
    "            if len(fila2) != 0:\n",
    "                prox_fim_2 = gera_fim_servico(tempo, partial(gera_exponencial, mu), fila2[0].id, FIM_DO_SERVICO_2)\n",
    "                eventos.append( prox_fim_2 )\n",
    "\n",
    "            estimadores[\"W1\"].adiciona_amostra(cliente.tempo_espera_1)\n",
    "            estimadores[\"X1\"].adiciona_amostra(cliente.tempo_execucao_1)\n",
    "\n",
    "            estimadores[\"W2\"].adiciona_amostra(cliente.tempo_espera_2)\n",
    "            estimadores[\"X2\"].adiciona_amostra(cliente.tempo_execucao_2)\n",
    "            #print(\"Saída 2\", cliente)\n",
    "            \n",
    "            n_eventos += 1 #aumenta contador de eventos de saída\n",
    "\n",
    "        eventos.sort(key = lambda e: e.instante_t)\n",
    "    return estimadores, n_eventos\n",
    "    #print(eventos)\n",
    "    #print()\n",
    "#estimadores[\"Nq2\"].t_student()"
   ]
  },
  {
   "cell_type": "code",
   "execution_count": 24,
   "metadata": {},
   "outputs": [],
   "source": [
    "# Função auxiliar para plotar os gráficos com diferentes seeds\n",
    "def auxiliar_transiente(seed, n_saidas):\n",
    "    random.seed(seed) #setando uma seed pra manter os testes iguais\n",
    "    lista = []\n",
    "    for r in RHOS:\n",
    "        mu = MU\n",
    "        lamb = r/2\n",
    "        start = time.time()\n",
    "        estimadores, n_eventos = simulador_transiente(lamb, mu, k=n_saidas, debug=True)\n",
    "        print(f\"Rho={r} demorou {time.time()-start:.2f} segundos\")\n",
    "        lista.append(estimadores)\n",
    "        \n",
    "    \n",
    "    #Plot dos resultados dos estimadores\n",
    "    start = time.time()\n",
    "    for i, cat in enumerate([\"W1\", \"W2\", \"X1\", \"X2\", \"N1\", \"N2\", \"Nq1\", \"Nq2\"]):\n",
    "        plt.figure(figsize=(12, 6))\n",
    "\n",
    "        plt.subplot(121)\n",
    "        for estimadores in lista:\n",
    "            medias = estimadores[cat].medias\n",
    "            plt.plot(medias)\n",
    "            plt.xlabel( \"Eventos tratados\" if i > 3 else f\"Clientes atendidos\")\n",
    "        plt.legend(RHOS)\n",
    "        plt.title(f\"E[{cat}]\")\n",
    "\n",
    "        plt.subplot(122)\n",
    "        for estimadores in lista:\n",
    "            variancias = estimadores[cat].variancias\n",
    "            plt.plot(variancias)\n",
    "            plt.xlabel( \"Eventos tratados\" if i > 3 else f\"Clientes atendidos\")\n",
    "        plt.legend(RHOS)\n",
    "        plt.title(f\"V[{cat}]\")\n",
    "\n",
    "        #plt.suptitle(cat)\n",
    "        plt.show()\n",
    "    print(f\"Plots demoraram {time.time()-start:.2f} segundos\")"
   ]
  },
  {
   "cell_type": "markdown",
   "metadata": {},
   "source": [
    "Usando seed 13"
   ]
  },
  {
   "cell_type": "code",
   "execution_count": 25,
   "metadata": {},
   "outputs": [],
   "source": [
    "# auxiliar_transiente(13, 300_000)"
   ]
  },
  {
   "cell_type": "markdown",
   "metadata": {},
   "source": [
    "Usando seed 43"
   ]
  },
  {
   "cell_type": "code",
   "execution_count": 26,
   "metadata": {},
   "outputs": [],
   "source": [
    "# auxiliar_transiente(42, 300_000)"
   ]
  },
  {
   "cell_type": "markdown",
   "metadata": {},
   "source": [
    "Usando seed 91"
   ]
  },
  {
   "cell_type": "code",
   "execution_count": 27,
   "metadata": {},
   "outputs": [],
   "source": [
    "# auxiliar_transiente(91, 300_000)"
   ]
  },
  {
   "cell_type": "markdown",
   "metadata": {},
   "source": [
    "Feito isso, olhamos para a métrica que mais demora para estabilizar (V[W2]) para a nossa decisão. Escolhemos usar os primeiros 200000 clientes como fase transiente."
   ]
  },
  {
   "cell_type": "markdown",
   "metadata": {},
   "source": [
    "### Coleta de resultados"
   ]
  },
  {
   "cell_type": "markdown",
   "metadata": {},
   "source": [
    "Sabendo onde termina a fase transiente, vamos juntar tudo e adicionar a lógica de batch, onde cada simulação inicia onde a anterior termina. Escolhemos 100000 como o número de clientes por rodada e 10 rodadas por valor de rho"
   ]
  },
  {
   "cell_type": "code",
   "execution_count": 28,
   "metadata": {},
   "outputs": [],
   "source": [
    "#lamb = lambda\n",
    "#mu = mu\n",
    "#n_rodadas = número de rodadas\n",
    "#partidas_rodadas = número de partidas por rodada\n",
    "def simulador(lamb, mu, n_rodadas, partidas_rodadas, debug=False):\n",
    "    fila1 = []\n",
    "    fila2 = []\n",
    "\n",
    "    tempo = 0\n",
    "    tempo_anterior = 0\n",
    "    eventos = [ gera_chegadas(0, partial(gera_exponencial, lamb), 0) ] # começa populando com uma chegada\n",
    "    \n",
    "    rodada_atual = 0\n",
    "    rodadas = []\n",
    "    for n in range(n_rodadas):\n",
    "        rodadas.append({\n",
    "        \"W1\": Estimador(), \"W2\": Estimador(),\n",
    "        \"T1\": Estimador(), \"T2\": Estimador(),\n",
    "        \"N1\": Estimador(), \"N2\": Estimador(),\n",
    "        \"Nq1\": Estimador(), \"Nq2\": Estimador()\n",
    "    })\n",
    "        \n",
    "    i = 0 #chegadas no sistema\n",
    "    rodada_atual = -1\n",
    "    while True: #loop de eventos\n",
    "        atual = eventos.pop(0)\n",
    "        tempo_anterior = tempo\n",
    "        tempo = atual.instante_t\n",
    "        \n",
    "        if rodada_atual >= 0 and rodada_atual < n_rodadas:\n",
    "            N1 = len(fila1)\n",
    "            Nq1 = 0 if N1 == 0 else N1 - 1\n",
    "            rodadas[rodada_atual][\"N1\"].adiciona_amostra(N1, peso=tempo-tempo_anterior)\n",
    "            rodadas[rodada_atual][\"Nq1\"].adiciona_amostra(Nq1, peso=tempo-tempo_anterior)\n",
    "\n",
    "            N2 = len(fila2)\n",
    "            Nq2 = N2 if N1 > 0 or N2 == 0 else N2-1\n",
    "            rodadas[rodada_atual][\"N2\"].adiciona_amostra(N2, peso=tempo-tempo_anterior)\n",
    "            rodadas[rodada_atual][\"Nq2\"].adiciona_amostra(Nq2, peso=tempo-tempo_anterior)\n",
    "\n",
    "        if atual.tipo_evento == CHEGADA: #evento de chegada\n",
    "            rodada_atual = (i-200_000)//partidas_rodadas\n",
    "            fila1.append( cria_cliente(atual, rodada_atual) ) #adiciona o cliente chegado na fila\n",
    "            eventos.append(gera_chegadas(tempo, partial(gera_exponencial, lamb), i) ) #cria o próximo evento de chegada\n",
    "            #print(\"Chegada\", fila1[-1])\n",
    "\n",
    "            checa_termino = any([e.tipo_evento == FIM_DO_SERVICO_1 for e in eventos])\n",
    "            if not checa_termino: #essa foi a primeira chegada (não tem pessoas na fila 1)\n",
    "                prox_fim_1 = gera_fim_servico(tempo, partial(gera_exponencial, mu), atual.id_cliente, FIM_DO_SERVICO_1) \n",
    "                eventos.append( prox_fim_1 ) #adiciona o próximo evento de término 1\n",
    "\n",
    "                if len(fila2) != 0: # fila 2 tem alguém sendo executado\n",
    "                    prox_fim_2 = [e for e in eventos if e.tipo_evento == FIM_DO_SERVICO_2][0] #próximo término da fila 2\n",
    "                    prox_fim_2.instante_t += prox_fim_1.tempo_execucao #adia o fim do próximo da fila 2 para após o fim do atual da fila 1\n",
    "            i+= 1\n",
    "\n",
    "        elif atual.tipo_evento == FIM_DO_SERVICO_1:\n",
    "            cliente = fila1.pop(0) #remove o primeiro da fila 1\n",
    "            fila2.append( cliente ) #coloca cliente na fila 2\n",
    "\n",
    "            #atualiza tempos do cliente\n",
    "            cliente.tempo_execucao_1= atual.tempo_execucao\n",
    "            cliente.tempo_espera_1 = tempo - cliente.tempo_chegada - atual.tempo_execucao\n",
    "\n",
    "            checa_termino = any([e.tipo_evento == FIM_DO_SERVICO_2 for e in eventos])\n",
    "            if not checa_termino: #essa foi o primeiro termino (não tem pessoas na fila 2)\n",
    "                eventos.append( gera_fim_servico(tempo, partial(gera_exponencial, mu), cliente.id, FIM_DO_SERVICO_2) ) #adiciona o próximo evento de término 1\n",
    "\n",
    "            if len(fila1) == 0: #se a fila 1 estiver vazia\n",
    "                pass\n",
    "            else: #se a fila 1 não estiver vazia\n",
    "                prox_fim_1 = gera_fim_servico(tempo, partial(gera_exponencial, mu), fila1[0].id, FIM_DO_SERVICO_1)  #cria evento de término para o próximo da fila 1\n",
    "                eventos.append( prox_fim_1 ) \n",
    "\n",
    "                prox_fim_2 = [e for e in eventos if e.tipo_evento == FIM_DO_SERVICO_2][0] #próximo término da fila 2\n",
    "                prox_fim_2.instante_t += prox_fim_1.tempo_execucao #adia o fim do próximo da fila 2 para após o fim do atual da fila 1\n",
    "\n",
    "            #print(\"Saída 1\", cliente)\n",
    "\n",
    "        elif atual.tipo_evento == FIM_DO_SERVICO_2:\n",
    "            cliente = fila2.pop(0)\n",
    "\n",
    "            #atualiza tempos do cliente\n",
    "            cliente.tempo_execucao_2= atual.tempo_execucao\n",
    "            cliente.tempo_espera_2 = tempo - cliente.tempo_chegada - cliente.tempo_execucao_1 - cliente.tempo_espera_1 - atual.tempo_execucao\n",
    "\n",
    "            if len(fila2) != 0:\n",
    "                prox_fim_2 = gera_fim_servico(tempo, partial(gera_exponencial, mu), fila2[0].id, FIM_DO_SERVICO_2)\n",
    "                eventos.append( prox_fim_2 )\n",
    "            \n",
    "            #se a saída for de uma rodada além do necessário, para o loop de eventos\n",
    "            if cliente.cor >= n_rodadas: break\n",
    "            elif cliente.cor >= 0:\n",
    "                rodadas[cliente.cor][\"W1\"].adiciona_amostra(cliente.tempo_espera_1)\n",
    "                rodadas[cliente.cor][\"T1\"].adiciona_amostra(cliente.tempo_espera_1+cliente.tempo_execucao_1)\n",
    "\n",
    "                rodadas[cliente.cor][\"W2\"].adiciona_amostra(cliente.tempo_espera_2)\n",
    "                rodadas[cliente.cor][\"T2\"].adiciona_amostra(cliente.tempo_espera_2+cliente.tempo_execucao_2)\n",
    "\n",
    "        eventos.sort(key = lambda e: e.instante_t)\n",
    "    return rodadas"
   ]
  },
  {
   "cell_type": "code",
   "execution_count": 29,
   "metadata": {},
   "outputs": [],
   "source": [
    "# metricas = [\"W1\", \"N1\", \"Nq1\", \"T1\", \"W2\", \"N2\", \"Nq2\", \"T2\"]\n",
    "# for seed in [13, 42, 91]:\n",
    "#     print(seed)\n",
    "#     for r in RHOS:\n",
    "#         random.seed(seed)\n",
    "#         mu = MU\n",
    "#         lamb = r/2\n",
    "\n",
    "#         start = time.time()\n",
    "#         retorno = simulador(lamb, mu, N_RODADAS, N_AMOSTRAS)\n",
    "#         print(f\"Rho={r} demorou {time.time()-start:.2f} segundos\")\n",
    "\n",
    "#         arquivo = open(f\"resultados/Semente={seed}-Rho={r}.csv\", \"w\")\n",
    "#         print(\"Rodada;E[W1];V[W1];E[N1];E[Nq1];E[T1];\"\\\n",
    "#               +\"E[W2];V[W2];E[N2];E[Nq2];E[T2]\", file=arquivo)\n",
    "        \n",
    "#         metricas_gerais = {k: Estimador() for k in [\"W1\", \"N1\", \"Nq1\", \"T1\", \"W2\", \"N2\", \"Nq2\", \"T2\"]}\n",
    "#         for i, rodada in enumerate(retorno):\n",
    "#             for metrica in metricas:\n",
    "#                 metricas_gerais[metrica].adiciona_amostra(rodada[metrica].media())\n",
    "            \n",
    "#             print(i+1,rodada[\"W1\"].media(), rodada[\"W1\"].variancia(),\n",
    "#                   rodada[\"N1\"].media(),\n",
    "#                   rodada[\"Nq1\"].media(),\n",
    "#                   rodada[\"T1\"].media(),\n",
    "#                   rodada[\"W2\"].media(), rodada[\"W2\"].variancia(),\n",
    "#                   rodada[\"N2\"].media(),\n",
    "#                   rodada[\"Nq2\"].media(),\n",
    "#                   rodada[\"T2\"].media(),\n",
    "#                  sep = \";\", file=arquivo, flush=True)\n",
    "\n",
    "#         for i, tipo in enumerate([\"Superior\", \"Inferior\", \"Precisão\"]):\n",
    "#             print(tipo + \" T-student\", metricas_gerais[\"W1\"].t_student()[i], \"-\",\n",
    "#               metricas_gerais[\"N1\"].t_student()[i],\n",
    "#               metricas_gerais[\"Nq1\"].t_student()[i],\n",
    "#               metricas_gerais[\"T1\"].t_student()[i],\n",
    "#               metricas_gerais[\"W2\"].t_student()[i], \"-\",\n",
    "#               metricas_gerais[\"N2\"].t_student()[i],\n",
    "#               metricas_gerais[\"Nq2\"].t_student()[i],\n",
    "#               metricas_gerais[\"T2\"].t_student()[i],\n",
    "#              sep = \";\", file=arquivo, flush=True)\n",
    "        \n",
    "#         for i, tipo in enumerate([\"Superior\", \"Inferior\", \"Precisão\"]):\n",
    "#             print(tipo + \" Chi-Quadrado\", metricas_gerais[\"W1\"].chi_quadrado()[i], metricas_gerais[\"W1\"].variancia_chi_quadrado()[i],\n",
    "#               metricas_gerais[\"N1\"].chi_quadrado()[i],\n",
    "#               metricas_gerais[\"Nq1\"].chi_quadrado()[i],\n",
    "#               metricas_gerais[\"T1\"].chi_quadrado()[i],\n",
    "#               metricas_gerais[\"W2\"].chi_quadrado()[i], metricas_gerais[\"W2\"].variancia_chi_quadrado()[i],\n",
    "#               metricas_gerais[\"N2\"].chi_quadrado()[i],\n",
    "#               metricas_gerais[\"Nq2\"].chi_quadrado()[i],\n",
    "#               metricas_gerais[\"T2\"].chi_quadrado()[i],\n",
    "#              sep = \";\", file=arquivo, flush=True)"
   ]
  },
  {
   "cell_type": "code",
   "execution_count": 30,
   "metadata": {},
   "outputs": [],
   "source": [
    "# resultado = simulador(0.5, 1, 10, 10000)\n",
    "# for metrica in ['W1','W2','T1', 'T2', 'Nq1', 'Nq2']:\n",
    "#     media = resultado[0][metrica].media()\n",
    "#     print(\"Media de {}: {}\".format(metrica, media))"
   ]
  },
  {
   "cell_type": "markdown",
   "metadata": {},
   "source": [
    "## Otimização"
   ]
  },
  {
   "cell_type": "markdown",
   "metadata": {},
   "source": [
    "Para encontrar o fator mínimo vamos olhar para cada fator separadamente usando rho=0.6"
   ]
  },
  {
   "cell_type": "markdown",
   "metadata": {},
   "source": [
    "### Fase Transiente"
   ]
  },
  {
   "cell_type": "markdown",
   "metadata": {},
   "source": [
    "Para isso, vamos alterar o simulador para parar no momento em que a variancia de W2 oscile menos que 0.1% por 1000 coletas seguidas e retornar o númerdo de coletas. Para garantir a independencia de sementes, estamos executando esse teste 1000 vezes e usando o maior número de coletas necessárias para estabilizar."
   ]
  },
  {
   "cell_type": "code",
   "execution_count": 31,
   "metadata": {},
   "outputs": [],
   "source": [
    "def simulador_transiente_otimo(lamb, mu, debug=False):\n",
    "    fila1 = []\n",
    "    fila2 = []\n",
    "\n",
    "    tempo = 0\n",
    "    tempo_anterior = 0\n",
    "\n",
    "    eventos = [ gera_chegadas(0, partial(gera_exponencial, lamb), 0) ] # começa populando com uma chegada\n",
    "    W2 = Estimador(debug = debug)\n",
    "\n",
    "    i = 0\n",
    "    n_saidas = 0\n",
    "    osciladas = 0\n",
    "    while osciladas < 10000: \n",
    "        atual = eventos.pop(0)\n",
    "        tempo_anterior = tempo\n",
    "        tempo = atual.instante_t\n",
    "\n",
    "        if atual.tipo_evento == CHEGADA: #evento de chegada\n",
    "            fila1.append( cria_cliente(atual, cor) ) #adiciona o cliente chegado na fila\n",
    "            eventos.append(gera_chegadas(tempo, partial(gera_exponencial, lamb), i) ) #cria o próximo evento de chegada\n",
    "\n",
    "            checa_termino = any([e.tipo_evento == FIM_DO_SERVICO_1 for e in eventos])\n",
    "            if not checa_termino: #essa foi a primeira chegada (não tem pessoas na fila 1)\n",
    "                prox_fim_1 = gera_fim_servico(tempo, partial(gera_exponencial, mu), atual.id_cliente, FIM_DO_SERVICO_1) \n",
    "                eventos.append( prox_fim_1 ) #adiciona o próximo evento de término 1\n",
    "\n",
    "                if len(fila2) != 0: # fila 2 tem alguém sendo executado\n",
    "                    prox_fim_2 = [e for e in eventos if e.tipo_evento == FIM_DO_SERVICO_2][0] #próximo término da fila 2\n",
    "                    prox_fim_2.instante_t += prox_fim_1.tempo_execucao #adia o fim do próximo da fila 2 para após o fim do atual da fila 1\n",
    "            i+= 1\n",
    "\n",
    "        elif atual.tipo_evento == FIM_DO_SERVICO_1:\n",
    "            cliente = fila1.pop(0) #remove o primeiro da fila 1\n",
    "            fila2.append( cliente ) #coloca cliente na fila 2\n",
    "\n",
    "            #atualiza tempos do cliente\n",
    "            cliente.tempo_execucao_1= atual.tempo_execucao\n",
    "            cliente.tempo_espera_1 = tempo - cliente.tempo_chegada - atual.tempo_execucao\n",
    "\n",
    "            checa_termino = any([e.tipo_evento == FIM_DO_SERVICO_2 for e in eventos])\n",
    "            if not checa_termino: #essa foi o primeiro termino (não tem pessoas na fila 2)\n",
    "                eventos.append( gera_fim_servico(tempo, partial(gera_exponencial, mu), cliente.id, FIM_DO_SERVICO_2) ) #adiciona o próximo evento de término 1\n",
    "\n",
    "            if len(fila1) == 0: #se a fila 1 estiver vazia\n",
    "                pass\n",
    "            else: #se a fila 1 não estiver vazia\n",
    "                prox_fim_1 = gera_fim_servico(tempo, partial(gera_exponencial, mu), fila1[0].id, FIM_DO_SERVICO_1)  #cria evento de término para o próximo da fila 1\n",
    "                eventos.append( prox_fim_1 ) \n",
    "\n",
    "                prox_fim_2 = [e for e in eventos if e.tipo_evento == FIM_DO_SERVICO_2][0] #próximo término da fila 2\n",
    "                prox_fim_2.instante_t += prox_fim_1.tempo_execucao #adia o fim do próximo da fila 2 para após o fim do atual da fila 1\n",
    "\n",
    "        elif atual.tipo_evento == FIM_DO_SERVICO_2:\n",
    "            cliente = fila2.pop(0)\n",
    "\n",
    "            #atualiza tempos do cliente\n",
    "            cliente.tempo_execucao_2= atual.tempo_execucao\n",
    "            cliente.tempo_espera_2 = tempo - cliente.tempo_chegada - cliente.tempo_execucao_1 - cliente.tempo_espera_1 - atual.tempo_execucao\n",
    "\n",
    "            if len(fila2) != 0:\n",
    "                prox_fim_2 = gera_fim_servico(tempo, partial(gera_exponencial, mu), fila2[0].id, FIM_DO_SERVICO_2)\n",
    "                eventos.append( prox_fim_2 )\n",
    "            \n",
    "            v_atual = 0\n",
    "            if W2.numero_amostras > 10: v_atual = W2.variancia()\n",
    "            \n",
    "            W2.adiciona_amostra(cliente.tempo_espera_2)\n",
    "            \n",
    "            if W2.numero_amostras > 11 and abs((v_atual-W2.variancia())/v_atual) < 0.001:\n",
    "                osciladas += 1\n",
    "            else:\n",
    "                osciladas = 0\n",
    "            n_saidas += 1\n",
    "\n",
    "        eventos.sort(key = lambda e: e.instante_t)\n",
    "    return n_saidas, W2"
   ]
  },
  {
   "cell_type": "code",
   "execution_count": 32,
   "metadata": {},
   "outputs": [
    {
     "name": "stdout",
     "output_type": "stream",
     "text": [
      "Clientes atendidos 71179\n"
     ]
    },
    {
     "data": {
      "image/png": "[encoded data removed]",
      "text/plain": [
       "<Figure size 432x288 with 1 Axes>"
      ]
     },
     "metadata": {
      "needs_background": "light"
     },
     "output_type": "display_data"
    }
   ],
   "source": [
    "random.seed(13)\n",
    "m = 0\n",
    "W2_maior = None\n",
    "for i in range(100):\n",
    "    mu = MU\n",
    "    lamb = 0.6/2\n",
    "    n_coletas, W2_novo = simulador_transiente_otimo(lamb, mu, True)\n",
    "    if n_coletas > m:\n",
    "        m = n_coletas\n",
    "        W2_maior = W2_novo\n",
    "\n",
    "print(\"Clientes atendidos\", m)\n",
    "plt.plot(W2_maior.variancias)\n",
    "plt.show()\n",
    "#plt.xlabel( \"Eventos tratados\" if i > 3 else f\"Clientes atendidos\")"
   ]
  },
  {
   "cell_type": "markdown",
   "metadata": {},
   "source": [
    "### Tamanho da rodada"
   ]
  },
  {
   "cell_type": "markdown",
   "metadata": {},
   "source": [
    "Para essa estimativa, vamos usar a precisão de W2. Sendo assim, vamos modificar o simulador anterior para ignorar as 70.000 primeiras medições e, após isso, executar até a precisão chegar em 5% e retornar quantas medições foram necessárias para isso."
   ]
  },
  {
   "cell_type": "code",
   "execution_count": 33,
   "metadata": {},
   "outputs": [],
   "source": [
    "def simulador_tamanho_rodada_otimo(lamb, mu, fase_transiente, n_rodadas,debug=False):\n",
    "    fila1 = []\n",
    "    fila2 = []\n",
    "\n",
    "    tempo = 0\n",
    "    tempo_anterior = 0\n",
    "\n",
    "    eventos = [ gera_chegadas(0, partial(gera_exponencial, lamb), 0) ] # começa populando com uma chegada\n",
    "    W2 = Estimador(debug = debug)\n",
    "    W2_maior = W2\n",
    "\n",
    "    i = 0\n",
    "    n_saidas = 0\n",
    "    n_saidas_rodada = 0\n",
    "    rodada = 0\n",
    "    while rodada < n_rodadas: \n",
    "        atual = eventos.pop(0)\n",
    "        tempo_anterior = tempo\n",
    "        tempo = atual.instante_t\n",
    "\n",
    "        if atual.tipo_evento == CHEGADA: #evento de chegada\n",
    "            fila1.append( cria_cliente(atual, cor) ) #adiciona o cliente chegado na fila\n",
    "            eventos.append(gera_chegadas(tempo, partial(gera_exponencial, lamb), i) ) #cria o próximo evento de chegada\n",
    "\n",
    "            checa_termino = any([e.tipo_evento == FIM_DO_SERVICO_1 for e in eventos])\n",
    "            if not checa_termino: #essa foi a primeira chegada (não tem pessoas na fila 1)\n",
    "                prox_fim_1 = gera_fim_servico(tempo, partial(gera_exponencial, mu), atual.id_cliente, FIM_DO_SERVICO_1) \n",
    "                eventos.append( prox_fim_1 ) #adiciona o próximo evento de término 1\n",
    "\n",
    "                if len(fila2) != 0: # fila 2 tem alguém sendo executado\n",
    "                    prox_fim_2 = [e for e in eventos if e.tipo_evento == FIM_DO_SERVICO_2][0] #próximo término da fila 2\n",
    "                    prox_fim_2.instante_t += prox_fim_1.tempo_execucao #adia o fim do próximo da fila 2 para após o fim do atual da fila 1\n",
    "            i+= 1\n",
    "\n",
    "        elif atual.tipo_evento == FIM_DO_SERVICO_1:\n",
    "            cliente = fila1.pop(0) #remove o primeiro da fila 1\n",
    "            fila2.append( cliente ) #coloca cliente na fila 2\n",
    "\n",
    "            #atualiza tempos do cliente\n",
    "            cliente.tempo_execucao_1= atual.tempo_execucao\n",
    "            cliente.tempo_espera_1 = tempo - cliente.tempo_chegada - atual.tempo_execucao\n",
    "\n",
    "            checa_termino = any([e.tipo_evento == FIM_DO_SERVICO_2 for e in eventos])\n",
    "            if not checa_termino: #essa foi o primeiro termino (não tem pessoas na fila 2)\n",
    "                eventos.append( gera_fim_servico(tempo, partial(gera_exponencial, mu), cliente.id, FIM_DO_SERVICO_2) ) #adiciona o próximo evento de término 1\n",
    "\n",
    "            if len(fila1) == 0: #se a fila 1 estiver vazia\n",
    "                pass\n",
    "            else: #se a fila 1 não estiver vazia\n",
    "                prox_fim_1 = gera_fim_servico(tempo, partial(gera_exponencial, mu), fila1[0].id, FIM_DO_SERVICO_1)  #cria evento de término para o próximo da fila 1\n",
    "                eventos.append( prox_fim_1 ) \n",
    "\n",
    "                prox_fim_2 = [e for e in eventos if e.tipo_evento == FIM_DO_SERVICO_2][0] #próximo término da fila 2\n",
    "                prox_fim_2.instante_t += prox_fim_1.tempo_execucao #adia o fim do próximo da fila 2 para após o fim do atual da fila 1\n",
    "\n",
    "        elif atual.tipo_evento == FIM_DO_SERVICO_2:\n",
    "            cliente = fila2.pop(0)\n",
    "\n",
    "            #atualiza tempos do cliente\n",
    "            cliente.tempo_execucao_2= atual.tempo_execucao\n",
    "            cliente.tempo_espera_2 = tempo - cliente.tempo_chegada - cliente.tempo_execucao_1 - cliente.tempo_espera_1 - atual.tempo_execucao\n",
    "\n",
    "            if len(fila2) != 0:\n",
    "                prox_fim_2 = gera_fim_servico(tempo, partial(gera_exponencial, mu), fila2[0].id, FIM_DO_SERVICO_2)\n",
    "                eventos.append( prox_fim_2 )\n",
    "            \n",
    "            W2.adiciona_amostra(cliente.tempo_espera_2)\n",
    "            n_saidas += 1\n",
    "            \n",
    "            if n_saidas == fase_transiente: W2 = Estimador(debug = debug) #reseta métricas após fase transiente\n",
    "                \n",
    "            if W2.numero_amostras > 10 and W2.t_student()[2] < 0.05:\n",
    "                rodada += 1\n",
    "                if W2.numero_amostras > W2_maior.numero_amostras:\n",
    "                    W2_maior = W2\n",
    "                W2 = Estimador(debug = debug)\n",
    "\n",
    "        eventos.sort(key = lambda e: e.instante_t)\n",
    "    return n_saidas, W2_maior"
   ]
  },
  {
   "cell_type": "code",
   "execution_count": 34,
   "metadata": {},
   "outputs": [
    {
     "name": "stdout",
     "output_type": "stream",
     "text": [
      "4470\n"
     ]
    }
   ],
   "source": [
    "random.seed(13)\n",
    "mu = MU\n",
    "lamb = 0.6/2\n",
    "_, W2_maior = simulador_tamanho_rodada_otimo(lamb, mu, fase_transiente=71179, n_rodadas=100, debug=False)\n",
    "print(W2_maior.numero_amostras)"
   ]
  },
  {
   "cell_type": "markdown",
   "metadata": {},
   "source": [
    "### Número de rodadas"
   ]
  },
  {
   "cell_type": "markdown",
   "metadata": {},
   "source": [
    "Novamente estamos usando a precisão T-student para a tomada de decisão. A diferença é que agora estamos olhando para a média das médias de cada rodada. Estamos executando 10 vezes usando os parametros descobertos anteriormente para escolher o melhor tamanho."
   ]
  },
  {
   "cell_type": "code",
   "execution_count": 35,
   "metadata": {},
   "outputs": [],
   "source": [
    "def simulador_numero_rodadas_otimo(lamb, mu, fase_transiente, tamanho_rodada,debug=False):\n",
    "    fila1 = []\n",
    "    fila2 = []\n",
    "\n",
    "    tempo = 0\n",
    "    tempo_anterior = 0\n",
    "\n",
    "    eventos = [ gera_chegadas(0, partial(gera_exponencial, lamb), 0) ] # começa populando com uma chegada\n",
    "    W2_simulador = Estimador(debug = debug)\n",
    "    W2 = Estimador(debug = debug)\n",
    "\n",
    "    i = 0\n",
    "    n_saidas = 0\n",
    "    n_saidas_rodada = 0\n",
    "    rodada = 0\n",
    "    while rodada < 2 or W2_simulador.t_student()[2] > 0.05: \n",
    "        atual = eventos.pop(0)\n",
    "        tempo_anterior = tempo\n",
    "        tempo = atual.instante_t\n",
    "\n",
    "        if atual.tipo_evento == CHEGADA: #evento de chegada\n",
    "            fila1.append( cria_cliente(atual, cor) ) #adiciona o cliente chegado na fila\n",
    "            eventos.append(gera_chegadas(tempo, partial(gera_exponencial, lamb), i) ) #cria o próximo evento de chegada\n",
    "\n",
    "            checa_termino = any([e.tipo_evento == FIM_DO_SERVICO_1 for e in eventos])\n",
    "            if not checa_termino: #essa foi a primeira chegada (não tem pessoas na fila 1)\n",
    "                prox_fim_1 = gera_fim_servico(tempo, partial(gera_exponencial, mu), atual.id_cliente, FIM_DO_SERVICO_1) \n",
    "                eventos.append( prox_fim_1 ) #adiciona o próximo evento de término 1\n",
    "\n",
    "                if len(fila2) != 0: # fila 2 tem alguém sendo executado\n",
    "                    prox_fim_2 = [e for e in eventos if e.tipo_evento == FIM_DO_SERVICO_2][0] #próximo término da fila 2\n",
    "                    prox_fim_2.instante_t += prox_fim_1.tempo_execucao #adia o fim do próximo da fila 2 para após o fim do atual da fila 1\n",
    "            i+= 1\n",
    "\n",
    "        elif atual.tipo_evento == FIM_DO_SERVICO_1:\n",
    "            cliente = fila1.pop(0) #remove o primeiro da fila 1\n",
    "            fila2.append( cliente ) #coloca cliente na fila 2\n",
    "\n",
    "            #atualiza tempos do cliente\n",
    "            cliente.tempo_execucao_1= atual.tempo_execucao\n",
    "            cliente.tempo_espera_1 = tempo - cliente.tempo_chegada - atual.tempo_execucao\n",
    "\n",
    "            checa_termino = any([e.tipo_evento == FIM_DO_SERVICO_2 for e in eventos])\n",
    "            if not checa_termino: #essa foi o primeiro termino (não tem pessoas na fila 2)\n",
    "                eventos.append( gera_fim_servico(tempo, partial(gera_exponencial, mu), cliente.id, FIM_DO_SERVICO_2) ) #adiciona o próximo evento de término 1\n",
    "\n",
    "            if len(fila1) == 0: #se a fila 1 estiver vazia\n",
    "                pass\n",
    "            else: #se a fila 1 não estiver vazia\n",
    "                prox_fim_1 = gera_fim_servico(tempo, partial(gera_exponencial, mu), fila1[0].id, FIM_DO_SERVICO_1)  #cria evento de término para o próximo da fila 1\n",
    "                eventos.append( prox_fim_1 ) \n",
    "\n",
    "                prox_fim_2 = [e for e in eventos if e.tipo_evento == FIM_DO_SERVICO_2][0] #próximo término da fila 2\n",
    "                prox_fim_2.instante_t += prox_fim_1.tempo_execucao #adia o fim do próximo da fila 2 para após o fim do atual da fila 1\n",
    "\n",
    "        elif atual.tipo_evento == FIM_DO_SERVICO_2:\n",
    "            cliente = fila2.pop(0)\n",
    "\n",
    "            #atualiza tempos do cliente\n",
    "            cliente.tempo_execucao_2= atual.tempo_execucao\n",
    "            cliente.tempo_espera_2 = tempo - cliente.tempo_chegada - cliente.tempo_execucao_1 - cliente.tempo_espera_1 - atual.tempo_execucao\n",
    "\n",
    "            if len(fila2) != 0:\n",
    "                prox_fim_2 = gera_fim_servico(tempo, partial(gera_exponencial, mu), fila2[0].id, FIM_DO_SERVICO_2)\n",
    "                eventos.append( prox_fim_2 )\n",
    "            \n",
    "            W2.adiciona_amostra(cliente.tempo_espera_2)\n",
    "            n_saidas += 1\n",
    "            \n",
    "            if n_saidas == fase_transiente: W2 = Estimador(debug = debug) #reseta métricas no fim da fase transiente\n",
    "                \n",
    "            if W2.numero_amostras == tamanho_rodada:\n",
    "                rodada += 1\n",
    "                W2_simulador.adiciona_amostra(W2.media())\n",
    "                #if rodada > 2: print(W2_simulador.t_student()[2])\n",
    "                W2 = Estimador(debug = debug)\n",
    "\n",
    "        eventos.sort(key = lambda e: e.instante_t)\n",
    "    return n_saidas, W2_simulador"
   ]
  },
  {
   "cell_type": "code",
   "execution_count": 36,
   "metadata": {},
   "outputs": [],
   "source": [
    "random.seed(13)\n",
    "m = 0\n",
    "for i in range(5):\n",
    "    mu = MU\n",
    "    lamb = 0.6/2\n",
    "    _, W2 = simulador_numero_rodadas_otimo(lamb, mu, fase_transiente=71179, tamanho_rodada=3765, debug=False)\n",
    "    if m < W2.numero_amostras: m = W2.numero_amostras\n",
    "print(m)"
   ]
  },
  {
   "cell_type": "markdown",
   "metadata": {},
   "source": [
    "### Estimando para diferentes valores de rho"
   ]
  },
  {
   "attachments": {},
   "cell_type": "markdown",
   "metadata": {},
   "source": [
    "> Comentei a célula abaixo pois ela demorou mais de 1 hora para rodar"
   ]
  },
  {
   "cell_type": "code",
   "execution_count": null,
   "metadata": {},
   "outputs": [],
   "source": [
    "# for r in RHOS:\n",
    "#     print(\"RHO =\", r)\n",
    "#     mu = MU\n",
    "#     lamb = r/2\n",
    "    \n",
    "#     #tamanho fase transiente\n",
    "#     random.seed(13)\n",
    "#     transiente_otima = 0\n",
    "#     for i in range(100):\n",
    "#         n_coletas, _ = simulador_transiente_otimo(lamb, mu)\n",
    "#         if n_coletas > transiente_otima:\n",
    "#             transiente_otima = n_coletas\n",
    "#     print(\"Tamanho da Fase Transiente:\", transiente_otima)\n",
    "    \n",
    "#     #tamanho da rodada\n",
    "#     random.seed(13)\n",
    "#     _, W2 = simulador_tamanho_rodada_otimo(lamb, mu, fase_transiente=transiente_otima, n_rodadas=100, debug=False)\n",
    "#     tamanho_rodada = W2.numero_amostras\n",
    "#     print(\"Tamanho da Rodada:\", tamanho_rodada)\n",
    "    \n",
    "#     #número de rodadas\n",
    "#     random.seed(13)\n",
    "#     numero_rodadas = 0\n",
    "#     for i in range(5):\n",
    "#         _, W2 = simulador_numero_rodadas_otimo(lamb, mu, fase_transiente=transiente_otima, tamanho_rodada=tamanho_rodada, debug=False)\n",
    "#         if numero_rodadas < W2.numero_amostras: numero_rodadas = W2.numero_amostras\n",
    "#     print(\"Número de rodadas:\", numero_rodadas)\n",
    "    \n",
    "#     print(f\"Fator para RHO {r} = {transiente_otima} + {tamanho_rodada}*{numero_rodadas} = {transiente_otima + tamanho_rodada*numero_rodadas}\")"
   ]
  }
 ],
 "metadata": {
  "kernelspec": {
   "display_name": "Python 3",
   "language": "python",
   "name": "python3"
  },
  "language_info": {
   "codemirror_mode": {
    "name": "ipython",
    "version": 3
   },
   "file_extension": ".py",
   "mimetype": "text/x-python",
   "name": "python",
   "nbconvert_exporter": "python",
   "pygments_lexer": "ipython3",
   "version": "3.9.9"
  },
  "vscode": {
   "interpreter": {
    "hash": "cf92aa13fedf815d5c8dd192b8d835913fde3e8bc926b2a0ad6cc74ef2ba3ca2"
   }
  }
 },
 "nbformat": 4,
 "nbformat_minor": 2
}
