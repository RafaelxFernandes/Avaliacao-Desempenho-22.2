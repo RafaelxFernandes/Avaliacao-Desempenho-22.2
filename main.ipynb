{
 "cells": [
  {
   "cell_type": "markdown",
   "metadata": {},
   "source": [
    "## Bibliotecas"
   ]
  },
  {
   "cell_type": "code",
   "execution_count": 1,
   "metadata": {},
   "outputs": [],
   "source": [
    "import random\n",
    "import math\n",
    "\n",
    "import pandas as pd\n",
    "\n",
    "from functools import partial\n",
    "from scipy.stats import t, chi2"
   ]
  },
  {
   "cell_type": "markdown",
   "metadata": {},
   "source": [
    "## Códigos auxiliares"
   ]
  },
  {
   "cell_type": "code",
   "execution_count": 2,
   "metadata": {},
   "outputs": [],
   "source": [
    "from utils import *"
   ]
  },
  {
   "cell_type": "markdown",
   "metadata": {},
   "source": [
    "## Variáveis globais"
   ]
  },
  {
   "cell_type": "code",
   "execution_count": 91,
   "metadata": {},
   "outputs": [],
   "source": [
    "# N_RODADAS = 3200\n",
    "N_RODADAS = 32 \n",
    "\n",
    "# N_AMOSTRAS = 10000\n",
    "N_AMOSTRAS = 100000\n",
    "\n",
    "RHOS = [0.2, 0.4, 0.6, 0.8, 0.9]\n",
    "\n",
    "CHEGADA = 0\n",
    "FIM_DO_SERVICO_1 = 1\n",
    "FIM_DO_SERVICO_2 = 2\n",
    "\n",
    "MU = 1.0\n",
    "\n",
    "LIVRE = 0\n",
    "OCUPADO = 1\n",
    "\n",
    "FCFS = 1\n",
    "LCFS = 0"
   ]
  },
  {
   "cell_type": "markdown",
   "metadata": {},
   "source": [
    "## Funcionamento geral"
   ]
  },
  {
   "cell_type": "markdown",
   "metadata": {},
   "source": [
    "### Gerando VAs exponenciais\n",
    "Resultado mostrado na aula 5, slide 5."
   ]
  },
  {
   "cell_type": "code",
   "execution_count": 92,
   "metadata": {},
   "outputs": [],
   "source": [
    "def gera_exponencial(rho):\n",
    "\n",
    "    # Gera VA uniforme no intervalo [0.0, 1.0)\n",
    "    u0 = random.random()\n",
    "\n",
    "    # Pega amostra da exponencial\n",
    "    x0 = -math.log(u0)/ rho\n",
    "\n",
    "    return x0"
   ]
  },
  {
   "cell_type": "markdown",
   "metadata": {},
   "source": [
    "### Gerando números aleatórios\n",
    "Os seeds em Python são definidos por meio da função random.seed(int) e fixamos um seed antes cada simulação para garantir a reprodutibilidade dos resultados. Para garantir a independência dos seeds, rodamos o algoritmo com alguns seeds diferentes ao longo do trabalho.\n",
    "\n",
    "Além disso também fizemos alguns testes para mostrar que não há sobreposição entre os intervalos gerados pelos seeds.\n",
    "\n",
    "Mesmo usando seeds próximas (0 e 1, por exemplo) não encontramos sobreposição das sequências de valores nem uma correlação significativa. Acreditamos que isso se deve ao fato de o Python utilizar o algoritmo do Mersenne Twister para gerar números pseudoaleatórios (https://en.wikipedia.org/wiki/Mersenne_Twister)."
   ]
  },
  {
   "cell_type": "code",
   "execution_count": 93,
   "metadata": {},
   "outputs": [],
   "source": [
    "def gera_amostras(rho, seed):\n",
    "\n",
    "    rodadas = []\n",
    "\n",
    "    random.seed(seed)\n",
    "    \n",
    "    for _ in range(N_RODADAS):\n",
    "        amostras = []\n",
    "\n",
    "        for _ in range(N_AMOSTRAS):\n",
    "            amostras.append(gera_exponencial(rho))\n",
    "        \n",
    "        rodadas.append(amostras)\n",
    "    \n",
    "    # Lista de rodadas com números aleatórios gerados pela amostra exponencial\n",
    "    return rodadas"
   ]
  },
  {
   "cell_type": "markdown",
   "metadata": {},
   "source": [
    "#### Teste 1"
   ]
  },
  {
   "cell_type": "markdown",
   "metadata": {},
   "source": [
    "Primeiro geramos 2 vetores com váriaveis exponenciais com mesma taxa, cada um a partir de uma seed diferente. E depois verificamos se existem valores em comuns nesses vetores."
   ]
  },
  {
   "cell_type": "code",
   "execution_count": 94,
   "metadata": {},
   "outputs": [],
   "source": [
    "def teste_gera_amostras(rodadas_A, rodadas_B):\n",
    "\n",
    "    tamanho_lista_rodadas = len(rodadas_A)\n",
    "\n",
    "    for rodada_A in range(tamanho_lista_rodadas - 1):\n",
    "        lista_rodada = rodadas_A[rodada_A]\n",
    "\n",
    "        for rodada_B in range(tamanho_lista_rodadas):\n",
    "            verifica_lista = rodadas_B[rodada_B]\n",
    "\n",
    "            verificacao = list(set(lista_rodada).intersection(verifica_lista))\n",
    "            if(len(verificacao) > 0):\n",
    "                return \"Foram encontrados valores iguais\"\n",
    "            \n",
    "    return \"Não há valores iguais entre as duas rodadas\"       "
   ]
  },
  {
   "cell_type": "markdown",
   "metadata": {},
   "source": [
    "Exemplo:"
   ]
  },
  {
   "cell_type": "code",
   "execution_count": null,
   "metadata": {},
   "outputs": [],
   "source": [
    "rodadas_A = gera_amostras(0.3, 0)\n",
    "rodadas_B = gera_amostras(0.3, 1)\n",
    "\n",
    "teste_gera_amostras(rodadas_A, rodadas_B)"
   ]
  },
  {
   "cell_type": "markdown",
   "metadata": {},
   "source": [
    "#### Teste 2"
   ]
  },
  {
   "cell_type": "markdown",
   "metadata": {},
   "source": [
    "No outro teste geramos 2 vetores também e verificamos o indíce de correlação (Pearson) entre eles.\n",
    "\n",
    "- +1: correlação positiva completa\n",
    "- +0.8: correlação positiva forte\n",
    "- +0.6: correlação positiva moderada\n",
    "- 0: nenhuma correlação\n",
    "- -0.6: correlação negativa moderada\n",
    "- -0.8: correlação negativa forte\n",
    "- -1: correlação negativa completa\n",
    "\n",
    "Referência: https://stackabuse.com/calculating-pearson-correlation-coefficient-in-python-with-numpy/\n"
   ]
  },
  {
   "cell_type": "code",
   "execution_count": null,
   "metadata": {},
   "outputs": [],
   "source": [
    "def teste_pearson_gera_amostras(seed_1, seed_2):\n",
    "\n",
    "    rodadas = []\n",
    "    amostras_1 = []\n",
    "    amostras_2 = []\n",
    "\n",
    "    random.seed(seed_1)\n",
    "    for _ in range(N_AMOSTRAS):\n",
    "        amostras_1.append(random.random())\n",
    "    rodadas.append(amostras_1)\n",
    "\n",
    "    random.seed(seed_2)\n",
    "    for _ in range(N_AMOSTRAS):\n",
    "        amostras_2.append(random.random())\n",
    "    rodadas.append(amostras_2)\n",
    "\n",
    "    x_pearson = pd.Series(rodadas[0])\n",
    "    y_pearson = pd.Series(rodadas[1])\n",
    "\n",
    "    resultado = x_pearson.corr(y_pearson)\n",
    "\n",
    "    return resultado"
   ]
  },
  {
   "cell_type": "markdown",
   "metadata": {},
   "source": [
    "Exemplo:"
   ]
  },
  {
   "cell_type": "code",
   "execution_count": null,
   "metadata": {},
   "outputs": [],
   "source": [
    "teste_pearson_gera_amostras(0, 1)"
   ]
  },
  {
   "cell_type": "markdown",
   "metadata": {},
   "source": [
    "### Eventos"
   ]
  },
  {
   "cell_type": "code",
   "execution_count": null,
   "metadata": {},
   "outputs": [],
   "source": [
    "class Evento:\n",
    "\n",
    "    def __init__(self, tipo_evento, instante_t, tempo_execucao, id_cliente):\n",
    "        self.tipo_evento = tipo_evento\n",
    "        self.instante_t = instante_t #tempo em que o evento foi criado + tempo até ser executado\n",
    "        self.tempo_execucao = tempo_execucao #tempo até ser executado\n",
    "        self.id_cliente = id_cliente\n",
    "\n",
    "    # Define como a classe é impressa\n",
    "    def __repr__(self):\n",
    "        if(self.tipo_evento == CHEGADA):\n",
    "            escreve_string = \"CHEGADA\"\n",
    "        elif self.tipo_evento == FIM_DO_SERVICO_1:\n",
    "            escreve_string = \"FIM DO SERVIÇO 1\"\n",
    "        else:\n",
    "            escreve_string = \"FIM DO SERVIÇO 2\"\n",
    "\n",
    "        return f\"Tipo de evento: {escreve_string}\\n Instante: {self.instante_t}\\n ID Cliente: {self.id_cliente}\""
   ]
  },
  {
   "cell_type": "markdown",
   "metadata": {},
   "source": [
    "Exemplo:"
   ]
  },
  {
   "cell_type": "code",
   "execution_count": null,
   "metadata": {},
   "outputs": [],
   "source": [
    "evento = Evento(CHEGADA, 0.1, 0, 0)\n",
    "evento"
   ]
  },
  {
   "cell_type": "markdown",
   "metadata": {},
   "source": [
    "### Clientes"
   ]
  },
  {
   "cell_type": "code",
   "execution_count": null,
   "metadata": {},
   "outputs": [],
   "source": [
    "class Cliente:\n",
    "\n",
    "    def __init__(self, chegada_evento, cor):\n",
    "        self.id = chegada_evento.id_cliente\n",
    "        self.tempo_chegada = chegada_evento.instante_t\n",
    "        self.tempo_execucao_1 = 0.0\n",
    "        self.tempo_execucao_2 = 0.0\n",
    "        self.tempo_espera_1 = 0.0\n",
    "        self.tempo_espera_2 = 0.0\n",
    "        self.cor = cor\n",
    "\n",
    "    # Define como a classe é impressa\n",
    "    def __repr__(self):\n",
    "        return f\"\"\"ID: {self.id}\n",
    "        Tempo de chegada: {self.tempo_chegada}\n",
    "        Tempo de espera na fila 1: {self.tempo_espera_1}\n",
    "        Tempo de execucao no servico 1: {self.tempo_execucao_1}\n",
    "        Tempo de espera na fila 2: {self.tempo_espera_2}\n",
    "        Tempo de execucao no servico 2: {self.tempo_execucao_2}\"\"\""
   ]
  },
  {
   "cell_type": "code",
   "execution_count": null,
   "metadata": {},
   "outputs": [],
   "source": [
    "def cria_cliente(evento, cor):\n",
    "    novo_cliente = Cliente(evento, cor)\n",
    "    return novo_cliente"
   ]
  },
  {
   "cell_type": "markdown",
   "metadata": {},
   "source": [
    "Exemplo:"
   ]
  },
  {
   "cell_type": "code",
   "execution_count": null,
   "metadata": {},
   "outputs": [],
   "source": [
    "cor = \"%06x\" % random.randint(0, 0xFFFFFF)\n",
    "cliente = cria_cliente(evento, cor)\n",
    "cliente"
   ]
  },
  {
   "cell_type": "markdown",
   "metadata": {},
   "source": [
    "### Gerando chegadas"
   ]
  },
  {
   "cell_type": "code",
   "execution_count": null,
   "metadata": {},
   "outputs": [],
   "source": [
    "def gera_chegadas(instante_t, distribuicao_chegada, id_cliente):\n",
    "    chegada = distribuicao_chegada()\n",
    "    chegada = Evento(CHEGADA, instante_t + chegada, chegada, id_cliente)\n",
    "    return chegada"
   ]
  },
  {
   "cell_type": "markdown",
   "metadata": {},
   "source": [
    "Exemplo:"
   ]
  },
  {
   "cell_type": "code",
   "execution_count": 58,
   "metadata": {},
   "outputs": [
    {
     "data": {
      "text/plain": [
       "Tipo de evento: CHEGADA\n",
       " Instante: 3.399772396615582\n",
       " ID Cliente: 0"
      ]
     },
     "execution_count": 58,
     "metadata": {},
     "output_type": "execute_result"
    }
   ],
   "source": [
    "chegada = gera_chegadas(1, partial(gera_exponencial, 0.3), 0)\n",
    "chegada"
   ]
  },
  {
   "cell_type": "markdown",
   "metadata": {},
   "source": [
    "### Gerando fins de serviço"
   ]
  },
  {
   "cell_type": "code",
   "execution_count": 59,
   "metadata": {},
   "outputs": [],
   "source": [
    "def gera_fim_servico(instante_t, distribuicao_servico, id_cliente, tipo):\n",
    "    servico = distribuicao_servico()\n",
    "    fim_servico = Evento(tipo, instante_t + servico, servico, id_cliente)\n",
    "    return fim_servico"
   ]
  },
  {
   "cell_type": "markdown",
   "metadata": {},
   "source": [
    "Exemplo:"
   ]
  },
  {
   "cell_type": "code",
   "execution_count": 60,
   "metadata": {},
   "outputs": [
    {
     "data": {
      "text/plain": [
       "Tipo de evento: FIM DO SERVIÇO 1\n",
       " Instante: 10.936774762388174\n",
       " ID Cliente: 1"
      ]
     },
     "execution_count": 60,
     "metadata": {},
     "output_type": "execute_result"
    }
   ],
   "source": [
    "fim_servico = gera_fim_servico(10, partial(gera_exponencial, 0.3), 1, FIM_DO_SERVICO_1)\n",
    "fim_servico"
   ]
  },
  {
   "cell_type": "markdown",
   "metadata": {},
   "source": [
    "### Lista de eventos"
   ]
  },
  {
   "cell_type": "code",
   "execution_count": null,
   "metadata": {},
   "outputs": [],
   "source": []
  },
  {
   "cell_type": "markdown",
   "metadata": {},
   "source": [
    "### Fila de clientes"
   ]
  },
  {
   "cell_type": "code",
   "execution_count": null,
   "metadata": {},
   "outputs": [],
   "source": []
  },
  {
   "cell_type": "markdown",
   "metadata": {},
   "source": [
    "### Serviço"
   ]
  },
  {
   "cell_type": "code",
   "execution_count": null,
   "metadata": {},
   "outputs": [],
   "source": []
  },
  {
   "cell_type": "markdown",
   "metadata": {},
   "source": [
    "### Intervalos de confiança"
   ]
  },
  {
   "cell_type": "markdown",
   "metadata": {},
   "source": [
    "#### T-Student\n",
    "Resultado apresentado na aula 7, slides 4 e 6."
   ]
  },
  {
   "cell_type": "code",
   "execution_count": 61,
   "metadata": {},
   "outputs": [],
   "source": [
    "t_student_percentil = t(df = N_AMOSTRAS - 1).ppf((0.025, 0.975))[1]\n",
    "\n",
    "def t_student(media, variancia):\n",
    "\n",
    "    # Verifica se a média e variância têm valores nulos (ou próximos disso)\n",
    "    if(math.isclose(media, 0, abs_tol = 1e-9)):\n",
    "        media = 0\n",
    "\n",
    "    if(math.isclose(variancia, 0, abs_tol = 1e-9)):\n",
    "        variancia = 0\n",
    "\n",
    "    # Se a média e variância forem nulas\n",
    "    if(not(media or variancia)):\n",
    "        return 0.0, 0.0, 0.0\n",
    "\n",
    "    desvio_padrao = math.sqrt(variancia)\n",
    "\n",
    "    # Metade do intervalo\n",
    "    metade = t_student_percentil * (desvio_padrao/ math.sqrt(N_AMOSTRAS))\n",
    "\n",
    "    # Limite superior do intervalo\n",
    "    limite_superior = media + metade\n",
    "\n",
    "    # Limite inferior do intervalo\n",
    "    limite_inferior = media - metade\n",
    "\n",
    "    # Precisão do intervalo\n",
    "    precisao = metade/ media\n",
    "\n",
    "    return limite_superior, limite_inferior, precisao"
   ]
  },
  {
   "cell_type": "markdown",
   "metadata": {},
   "source": [
    "#### Chi-Quadrado\n",
    "Resultado apresentado na aula 7, slides 12 ao 14."
   ]
  },
  {
   "cell_type": "code",
   "execution_count": 62,
   "metadata": {},
   "outputs": [],
   "source": [
    "chi2_0025_percentil, chi2_0975_percentil = chi2(df = N_AMOSTRAS - 1).ppf((0.025, 0.975))\n",
    "\n",
    "def chi_quadrado(variancia):\n",
    "\n",
    "    if(variancia == 0.0):\n",
    "        return 0.0, 0.0, 0.0\n",
    "\n",
    "    else:\n",
    "        limite_superior = (N_AMOSTRAS) * variancia/ chi2_0975_percentil\n",
    "        limite_inferior = (N_AMOSTRAS) * variancia/ chi2_0025_percentil\n",
    "\n",
    "        # Enunciado pede que seja aproximadamente 0.05\n",
    "        precisao = (chi2_0975_percentil - chi2_0025_percentil)/ (chi2_0975_percentil + chi2_0025_percentil)\n",
    "\n",
    "        return limite_superior, limite_inferior, precisao"
   ]
  },
  {
   "cell_type": "markdown",
   "metadata": {},
   "source": [
    "### Estimadores"
   ]
  },
  {
   "cell_type": "markdown",
   "metadata": {},
   "source": [
    "Essa classe permitey o cálculo iterativo da média e da variãncia de uma variável, recebendo uma amostra de cada vez.\n",
    "Esse resultado foi apresentado na aula 7, slide 19."
   ]
  },
  {
   "cell_type": "code",
   "execution_count": 88,
   "metadata": {},
   "outputs": [],
   "source": [
    "class Estimador:\n",
    "\n",
    "    def __init__(self):\n",
    "        self.soma_amostras = 0.0\n",
    "        self.quadrado_soma_amostras = 0.0\n",
    "        self.numero_amostras = 0\n",
    "\n",
    "    def adiciona_amostra(self, amostra, peso=1):\n",
    "        self.soma_amostras += amostra*peso\n",
    "        self.quadrado_soma_amostras += ((amostra*peso) ** 2)\n",
    "        self.numero_amostras += peso\n",
    "\n",
    "    def media(self):\n",
    "        return self.soma_amostras/ self.numero_amostras\n",
    "\n",
    "    def variancia(self):\n",
    "        termo_auxiliar_1 = self.quadrado_soma_amostras/ (self.numero_amostras - 1)\n",
    "        termo_auxiliar_2 = (self.soma_amostras ** 2)/ (self.numero_amostras * (self.numero_amostras - 1))\n",
    "        return termo_auxiliar_1 - termo_auxiliar_2\n",
    "\n",
    "    def t_student(self):\n",
    "        return t_student(self.media(), self.variancia())\n",
    "\n",
    "    def variancia_chi_quadrado(self):\n",
    "        return chi_quadrado(self.variancia())\n",
    "\n",
    "    def chi_quadrado(self):\n",
    "        return chi_quadrado(self.media())"
   ]
  },
  {
   "cell_type": "code",
   "execution_count": 89,
   "metadata": {},
   "outputs": [
    {
     "data": {
      "text/plain": [
       "0.1583180219056443"
      ]
     },
     "execution_count": 89,
     "metadata": {},
     "output_type": "execute_result"
    }
   ],
   "source": [
    "estimador = Estimador()\n",
    "estimador.adiciona_amostra(10)\n",
    "estimador.adiciona_amostra(15)\n",
    "estimador.adiciona_amostra(10)\n",
    "estimador.adiciona_amostra(15)\n",
    "estimador.adiciona_amostra(10)\n",
    "estimador.adiciona_amostra(10)\n",
    "estimador.t_student()[2]"
   ]
  },
  {
   "cell_type": "markdown",
   "metadata": {},
   "source": [
    "### Simulação"
   ]
  },
  {
   "cell_type": "code",
   "execution_count": 90,
   "metadata": {},
   "outputs": [
    {
     "data": {
      "text/plain": [
       "(3.058294652605091, -0.8781895098069057, 1.805639592849858)"
      ]
     },
     "execution_count": 90,
     "metadata": {},
     "output_type": "execute_result"
    }
   ],
   "source": [
    "random.seed(13) #setando uma seed pra manter os testes iguais\n",
    "\n",
    "mu = MU\n",
    "lamb = RHOS[2]/2\n",
    "\n",
    "fila1 = []\n",
    "fila2 = []\n",
    "\n",
    "tempo = 0\n",
    "tempo_anterior = 0\n",
    "\n",
    "eventos = [ gera_chegadas(0, partial(gera_exponencial, lamb), 0) ] # começa populando com uma chegada\n",
    "estimadores = {\n",
    "    \"W1\": Estimador(),\n",
    "    \"W2\": Estimador(),\n",
    "    \n",
    "    \"X1\": Estimador(),\n",
    "    \"X2\": Estimador(),\n",
    "    \n",
    "    \"N1\": Estimador(),\n",
    "    \"N2\": Estimador(),\n",
    "    \n",
    "    \"Nq1\": Estimador(),\n",
    "    \"Nq2\": Estimador()\n",
    "}\n",
    "\n",
    "i = 1\n",
    "while i < 100000: #loop de eventos, chegada de 10 clientes\n",
    "    atual = eventos.pop(0)\n",
    "    tempo_anterior = tempo\n",
    "    tempo = atual.instante_t\n",
    "    #print(\"Tempo\", tempo, \"\\nEvento\", atual, \"\\n\")\n",
    "    \n",
    "    N1 = len(fila1)\n",
    "    Nq1 = 0 if N1 == 0 else N1 - 1\n",
    "    \n",
    "    N2 = len(fila2)\n",
    "    Nq2 = N2 if N1 > 0 or N2 == 0 else N2-1\n",
    "    \n",
    "    estimadores[\"N1\"].adiciona_amostra(N1, peso=tempo-tempo_anterior)\n",
    "    estimadores[\"Nq1\"].adiciona_amostra(Nq1, peso=tempo-tempo_anterior)\n",
    "    \n",
    "    estimadores[\"N2\"].adiciona_amostra(N2, peso=tempo-tempo_anterior)\n",
    "    estimadores[\"Nq2\"].adiciona_amostra(Nq2, peso=tempo-tempo_anterior)\n",
    "    \n",
    "    if atual.tipo_evento == CHEGADA: #evento de chegada\n",
    "        fila1.append( cria_cliente(atual, cor) ) #adiciona o cliente chegado na fila\n",
    "        eventos.append(gera_chegadas(tempo, partial(gera_exponencial, lamb), i) ) #cria o próximo evento de chegada\n",
    "        #print(\"Chegada\", fila1[-1])\n",
    "        \n",
    "        checa_termino = any([e.tipo_evento == FIM_DO_SERVICO_1 for e in eventos])\n",
    "        if not checa_termino: #essa foi a primeira chegada (não tem pessoas na fila 1)\n",
    "            prox_fim_1 = gera_fim_servico(tempo, partial(gera_exponencial, mu), atual.id_cliente, FIM_DO_SERVICO_1) \n",
    "            eventos.append( prox_fim_1 ) #adiciona o próximo evento de término 1\n",
    "            \n",
    "            if len(fila2) != 0: # fila 2 tem alguém sendo executado\n",
    "                prox_fim_2 = [e for e in eventos if e.tipo_evento == FIM_DO_SERVICO_2][0] #próximo término da fila 2\n",
    "                prox_fim_2.instante_t += prox_fim_1.tempo_execucao #adia o fim do próximo da fila 2 para após o fim do atual da fila 1\n",
    "        i+= 1\n",
    "    \n",
    "    elif atual.tipo_evento == FIM_DO_SERVICO_1:\n",
    "        cliente = fila1.pop(0) #remove o primeiro da fila 1\n",
    "        fila2.append( cliente ) #coloca cliente na fila 2\n",
    "        \n",
    "        #atualiza tempos do cliente\n",
    "        cliente.tempo_execucao_1= atual.tempo_execucao\n",
    "        cliente.tempo_espera_1 = tempo - cliente.tempo_chegada - atual.tempo_execucao\n",
    "        \n",
    "        checa_termino = any([e.tipo_evento == FIM_DO_SERVICO_2 for e in eventos])\n",
    "        if not checa_termino: #essa foi o primeiro termino (não tem pessoas na fila 2)\n",
    "            eventos.append( gera_fim_servico(tempo, partial(gera_exponencial, mu), cliente.id, FIM_DO_SERVICO_2) ) #adiciona o próximo evento de término 1\n",
    "        \n",
    "        if len(fila1) == 0: #se a fila 1 estiver vazia\n",
    "            pass\n",
    "        else: #se a fila 1 não estiver vazia\n",
    "            prox_fim_1 = gera_fim_servico(tempo, partial(gera_exponencial, mu), fila1[0].id, FIM_DO_SERVICO_1)  #cria evento de término para o próximo da fila 1\n",
    "            eventos.append( prox_fim_1 ) \n",
    "            \n",
    "            prox_fim_2 = [e for e in eventos if e.tipo_evento == FIM_DO_SERVICO_2][0] #próximo término da fila 2\n",
    "            prox_fim_2.instante_t += prox_fim_1.tempo_execucao #adia o fim do próximo da fila 2 para após o fim do atual da fila 1\n",
    "        \n",
    "        #print(\"Saída 1\", cliente)\n",
    "        \n",
    "    elif atual.tipo_evento == FIM_DO_SERVICO_2:\n",
    "        cliente = fila2.pop(0)\n",
    "        \n",
    "        #atualiza tempos do cliente\n",
    "        cliente.tempo_execucao_2= atual.tempo_execucao\n",
    "        cliente.tempo_espera_2 = tempo - cliente.tempo_chegada - cliente.tempo_execucao_1 - cliente.tempo_espera_1 - atual.tempo_execucao\n",
    "        \n",
    "        if len(fila2) != 0:\n",
    "            prox_fim_2 = gera_fim_servico(tempo, partial(gera_exponencial, mu), fila2[0].id, FIM_DO_SERVICO_2)\n",
    "            eventos.append( prox_fim_2 )\n",
    "            \n",
    "        estimadores[\"W1\"].adiciona_amostra(cliente.tempo_espera_1)\n",
    "        estimadores[\"X1\"].adiciona_amostra(cliente.tempo_execucao_1)\n",
    "        \n",
    "        estimadores[\"W2\"].adiciona_amostra(cliente.tempo_espera_2)\n",
    "        estimadores[\"X1\"].adiciona_amostra(cliente.tempo_execucao_2)\n",
    "        #print(\"Saída 2\", cliente)\n",
    "\n",
    "    eventos.sort(key = lambda e: e.instante_t)\n",
    "    #print(eventos)\n",
    "    #print()\n",
    "estimadores[\"Nq2\"].t_student()"
   ]
  },
  {
   "cell_type": "markdown",
   "metadata": {},
   "source": [
    "## Testes de correção"
   ]
  },
  {
   "cell_type": "markdown",
   "metadata": {},
   "source": [
    "### Corretude do simulador"
   ]
  },
  {
   "cell_type": "code",
   "execution_count": null,
   "metadata": {},
   "outputs": [],
   "source": []
  },
  {
   "cell_type": "markdown",
   "metadata": {},
   "source": [
    "## Estimativa da fase transiente"
   ]
  },
  {
   "cell_type": "code",
   "execution_count": null,
   "metadata": {},
   "outputs": [],
   "source": []
  }
 ],
 "metadata": {
  "kernelspec": {
   "display_name": "Python 3",
   "language": "python",
   "name": "python3"
  },
  "language_info": {
   "codemirror_mode": {
    "name": "ipython",
    "version": 3
   },
   "file_extension": ".py",
   "mimetype": "text/x-python",
   "name": "python",
   "nbconvert_exporter": "python",
   "pygments_lexer": "ipython3",
   "version": "3.10.8"
  },
  "vscode": {
   "interpreter": {
    "hash": "cf92aa13fedf815d5c8dd192b8d835913fde3e8bc926b2a0ad6cc74ef2ba3ca2"
   }
  }
 },
 "nbformat": 4,
 "nbformat_minor": 2
}
